{
 "cells": [
  {
   "cell_type": "markdown",
   "metadata": {},
   "source": [
    "For this project, I have used CRISP-DM framework in its data science process"
   ]
  },
  {
   "cell_type": "markdown",
   "metadata": {},
   "source": [
    "## 1. BUSINESS UNDERSTANDING"
   ]
  },
  {
   "cell_type": "markdown",
   "metadata": {},
   "source": [
    "### 1.1 The audience\n",
    "\n",
    "The Target audience for this project are:\n",
    "* Movie lovers\n",
    "\n",
    "* Movie studios/distributors\n",
    "\n",
    "* E-commerce business selling movies"
   ]
  },
  {
   "cell_type": "markdown",
   "metadata": {},
   "source": [
    "### 1.2 Business Problem\n",
    "The audience is in need of a model that provides top 5 movie recommendations to a user, based on their ratings of other movies."
   ]
  },
  {
   "cell_type": "markdown",
   "metadata": {},
   "source": [
    "### 1.3 Business Objectives\n",
    "The objective of this project is to develop a model to:\n",
    "* Develop a machine learning model that delivers personalized top 5 movie recommendations to users.\n",
    "\n",
    "* Base recommendations on individual movie ratings provided by users.\n",
    "\n",
    "* Achieve a more engaging and profitable recommendation system for the stakeholders.\n",
    "\n",
    "* Boost user satisfaction through personalized movie recommendations.\n",
    "\n",
    "* Expose movie users to new and diverse content, expanding their horizons and introducing them to items they might have overlooked."
   ]
  },
  {
   "cell_type": "markdown",
   "metadata": {},
   "source": [
    "### 1.4 Metrics of success"
   ]
  },
  {
   "cell_type": "markdown",
   "metadata": {},
   "source": [
    "### Similarity Metrics to use\n",
    "\n",
    "**Pearson Correlation**: Is a commonly used method for computing similarity. It ranges from [-1, 1] and it represents the linear correlation between two vectors. A correlation value of 0 represents no relationship, -1 represents a high negative correlation and +1 represents high positive correlation. This similarity metric only takes into account those items that are rated by both individuals.\n",
    "\n",
    "### $$ \\text{pearson correlation}(u,v) = \\frac{\\sum_{i \\in I_{uv}}{(r_{ui}- \\mu_{u})*(r_{vi}- \\mu_{v})}}{\\sqrt{\\sum_{i \\in I_{uv} }{(r_{ui}-\\mu_{u})^{2}  }}  * \\sqrt{\\sum_{i \\in I_{uv} }{(r_{vi}-\\mu_{v})^{2}  }}} $$\n",
    "\n",
    "\n",
    "**Cosine Similarity**: Determines how vectors are related to each other by measuring the cosine angle between two vectors. The value also ranges from [-1, 1], with -1 meaning that the two vectors are diametrically opposed, 0 meaning the two vectors are perpendicular to one another, and 1 meaning that the vectors are the same. Here is the formula in the context of user similarity:\n",
    "\n",
    "### $$ \\text{cosine similarity}(u,v) = \\frac{\\sum_{i \\in I_{uv}}{r_{ui}*r_{vi}}}{\\sqrt{\\sum_{i \\in I_{uv} }{r_{ui}^{2}  }}  * \\sqrt{\\sum_{i \\in I_{uv} }{r_{ui}^{2}  }}} $$\n",
    "\n",
    "where $u$ is a user and $v$ is another user being compared to $u$. $i$ represents each item being rated. $I$ is the entire item set.\n",
    "\n"
   ]
  },
  {
   "cell_type": "markdown",
   "metadata": {},
   "source": [
    "### SVD and Recommendations\n",
    "\n",
    "With SVD, we turn the recommendation problem into an __Optimization__ problem that deals with how good we are in predicting the rating for items given a user. One common metric to achieve such optimization is __Root Mean Square Error (RMSE)__. A lower RMSE is indicative of improved performance and vice versa. RMSE is minimized on the known entries in the utility matrix. SVD has a great property that it has the minimal reconstruction Sum of Square Error (SSE); therefore, it is also commonly used in dimensionality reduction. Below is the formula to achieve this:\n",
    "\n",
    "$$min_{UV\\Sigma}\\sum_{i,j∈A}(A_{ij} - [UV\\Sigma^T]_{ij})^2$$\n",
    "\n",
    "\n",
    "RMSE and SSE are monotonically related. This means that the lower the SSE, the lower the RMSE. With the convenient property of SVD that it minimizes SSE, we know that it also minimizes RMSE. Thus, SVD is a great tool for this optimization problem. To predict the unseen item for a user, we simply multiply $U$, $V$, and $\\Sigma^{T}$."
   ]
  },
  {
   "cell_type": "markdown",
   "metadata": {},
   "source": [
    "#### 1.5 Data Source\n",
    "\n",
    "The data was sourced from https://grouplens.org/datasets/movielens/latest/ and has files named links.csv, movies.csv, ratings.csv and tags.csv. "
   ]
  },
  {
   "cell_type": "code",
   "execution_count": 3,
   "metadata": {},
   "outputs": [],
   "source": [
    "# import relevant libraries\n",
    "import zipfile\n",
    "import pandas as pd\n",
    "import numpy as np\n",
    "import seaborn as sns\n",
    "import sys\n",
    "import torch\n",
    "import matplotlib.pyplot as plt\n",
    "from IPython.display import display\n",
    "from surprise import Dataset, Reader,SVD, accuracy\n",
    "from surprise.model_selection import cross_validate, train_test_split,GridSearchCV\n",
    "from surprise.prediction_algorithms import knns, SVD\n",
    "from surprise.similarities import cosine, msd, pearson\n",
    "from sklearn.feature_extraction.text import TfidfVectorizer\n",
    "from sklearn.metrics.pairwise import linear_kernel\n",
    "from sklearn.metrics.pairwise import cosine_similarity,euclidean_distances\n",
    "from scipy.stats import pearsonr\n",
    "\n",
    "\n",
    "\n"
   ]
  },
  {
   "cell_type": "markdown",
   "metadata": {},
   "source": [
    "## 2. DATA UNDERSTANDING"
   ]
  },
  {
   "cell_type": "markdown",
   "metadata": {},
   "source": [
    "### 2.1 Data Description and Quality"
   ]
  },
  {
   "cell_type": "markdown",
   "metadata": {},
   "source": [
    "#### Loading the dataset -  I will load the dataset into a pandas DataFrame which will facilitate easy manipulation and analysis."
   ]
  },
  {
   "cell_type": "code",
   "execution_count": 4,
   "metadata": {},
   "outputs": [
    {
     "name": "stdout",
     "output_type": "stream",
     "text": [
      "df_links:\n",
      "   movieId  imdbId   tmdbId\n",
      "0        1  114709    862.0\n",
      "1        2  113497   8844.0\n",
      "2        3  113228  15602.0\n",
      "df_movies:\n",
      "   movieId                    title  \\\n",
      "0        1         Toy Story (1995)   \n",
      "1        2           Jumanji (1995)   \n",
      "2        3  Grumpier Old Men (1995)   \n",
      "\n",
      "                                        genres  \n",
      "0  Adventure|Animation|Children|Comedy|Fantasy  \n",
      "1                   Adventure|Children|Fantasy  \n",
      "2                               Comedy|Romance  \n",
      "df_ratings:\n",
      "   userId  movieId  rating  timestamp\n",
      "0       1        1     4.0  964982703\n",
      "1       1        3     4.0  964981247\n",
      "2       1        6     4.0  964982224\n",
      "df_tags:\n",
      "   userId  movieId              tag   timestamp\n",
      "0       2    60756            funny  1445714994\n",
      "1       2    60756  Highly quotable  1445714996\n",
      "2       2    60756     will ferrell  1445714992\n"
     ]
    }
   ],
   "source": [
    "# Path to the zip file\n",
    "zip_file_path = 'Data/ml-latest-small.zip'\n",
    "\n",
    "# Path to the extraction folder\n",
    "extracted_files_path = 'Data'\n",
    "\n",
    "# Extract the zip file\n",
    "with zipfile.ZipFile(zip_file_path, 'r') as zip_ref:\n",
    "    zip_ref.extractall(extracted_files_path)\n",
    "\n",
    "# Paths to csv files\n",
    "file1 = 'Data/ml-latest-small/links.csv'\n",
    "file2 = 'Data/ml-latest-small/movies.csv'\n",
    "file3 = 'Data/ml-latest-small/ratings.csv'\n",
    "file4='Data/ml-latest-small/tags.csv'\n",
    "\n",
    "# Read the CSV files into dataframes\n",
    "df_links= pd.read_csv(file1)\n",
    "df_movies= pd.read_csv(file2)\n",
    "df_ratings= pd.read_csv(file3)\n",
    "df_tags= pd.read_csv(file4)\n",
    "\n",
    "# Display the first few rows of each dataframe\n",
    "print(\"df_links:\")\n",
    "print(df_links.head(3))\n",
    "\n",
    "print(\"df_movies:\")\n",
    "print(df_movies.head(3))\n",
    "\n",
    "print(\"df_ratings:\")\n",
    "print(df_ratings.head(3))\n",
    "\n",
    "print(\"df_tags:\")\n",
    "print(df_tags.head(3))\n",
    "\n"
   ]
  },
  {
   "cell_type": "markdown",
   "metadata": {},
   "source": [
    "- Movie ids are consistent between ratings.csv, tags.csv, movies.csv, and links.csv "
   ]
  },
  {
   "cell_type": "markdown",
   "metadata": {},
   "source": [
    "### Next, I will make steps to understand the dataset before moving on to the data cleaning and transformation phases. The steps include reviewing the structure and the content of the dataset"
   ]
  },
  {
   "cell_type": "code",
   "execution_count": 5,
   "metadata": {},
   "outputs": [
    {
     "name": "stdout",
     "output_type": "stream",
     "text": [
      "df_links shape: (9742, 3)\n",
      "\n",
      "df_movies shape: (9742, 3)\n",
      "\n",
      "df_ratings shape: (100836, 4)\n",
      "\n",
      "df_tags shape: (3683, 4)\n"
     ]
    }
   ],
   "source": [
    "# Print the shapes of each dataframe\n",
    "print(\"df_links shape:\", df_links.shape)\n",
    "\n",
    "print(\"\\ndf_movies shape:\", df_movies.shape)\n",
    "\n",
    "print(\"\\ndf_ratings shape:\", df_ratings.shape)\n",
    "\n",
    "print(\"\\ndf_tags shape:\", df_tags.shape)\n"
   ]
  },
  {
   "cell_type": "markdown",
   "metadata": {},
   "source": [
    "### timestamp is not relevant to our model and it can be removed"
   ]
  },
  {
   "cell_type": "code",
   "execution_count": 6,
   "metadata": {},
   "outputs": [
    {
     "name": "stdout",
     "output_type": "stream",
     "text": [
      "   userId  movieId              tag\n",
      "0       2    60756            funny\n",
      "1       2    60756  Highly quotable\n",
      "2       2    60756     will ferrell\n",
      "3       2    89774     Boxing story\n",
      "4       2    89774              MMA\n",
      "   userId  movieId  rating\n",
      "0       1        1     4.0\n",
      "1       1        3     4.0\n",
      "2       1        6     4.0\n",
      "3       1       47     5.0\n",
      "4       1       50     5.0\n"
     ]
    }
   ],
   "source": [
    "df_tags_final = df_tags.drop(['timestamp'], axis=1)\n",
    "df_ratings_final = df_ratings.drop(['timestamp'], axis=1)\n",
    "print(df_tags_final.head())\n",
    "print(df_ratings_final.head())"
   ]
  },
  {
   "cell_type": "markdown",
   "metadata": {},
   "source": [
    "### Merge datasets"
   ]
  },
  {
   "cell_type": "markdown",
   "metadata": {},
   "source": [
    "#### Since our model is reliant on movie ratings to provides top 5 movie recommendations to a user, i have merged df_movies to the df_rating dataset so as to include the movie title and genre to the dataset. I will also include movie tag from df_tags to the df_rating. This is meant to provide more information about the movies the model will recommend."
   ]
  },
  {
   "cell_type": "code",
   "execution_count": 7,
   "metadata": {},
   "outputs": [
    {
     "name": "stdout",
     "output_type": "stream",
     "text": [
      "   userId_x  movieId  rating                    title  \\\n",
      "0         1        1     4.0         Toy Story (1995)   \n",
      "1         1        1     4.0         Toy Story (1995)   \n",
      "2         1        1     4.0         Toy Story (1995)   \n",
      "3         1        3     4.0  Grumpier Old Men (1995)   \n",
      "4         1        3     4.0  Grumpier Old Men (1995)   \n",
      "\n",
      "                                        genres  userId_y    tag  \n",
      "0  Adventure|Animation|Children|Comedy|Fantasy       336  pixar  \n",
      "1  Adventure|Animation|Children|Comedy|Fantasy       474  pixar  \n",
      "2  Adventure|Animation|Children|Comedy|Fantasy       567    fun  \n",
      "3                               Comedy|Romance       289  moldy  \n",
      "4                               Comedy|Romance       289    old  \n"
     ]
    }
   ],
   "source": [
    "# Merge df_rating and df_movies on movieId\n",
    "df_merged = pd.merge(df_ratings_final, df_movies, on='movieId')\n",
    "\n",
    "# Merge the resulting dataframe with df_tags on movieId\n",
    "df_final = pd.merge(df_merged, df_tags_final, on='movieId')\n",
    "\n",
    "# Display the first 5 rows of the final merged dataframe\n",
    "print(df_final.head())\n"
   ]
  },
  {
   "cell_type": "code",
   "execution_count": 8,
   "metadata": {},
   "outputs": [
    {
     "name": "stdout",
     "output_type": "stream",
     "text": [
      "<class 'pandas.core.frame.DataFrame'>\n",
      "RangeIndex: 233213 entries, 0 to 233212\n",
      "Data columns (total 7 columns):\n",
      " #   Column    Non-Null Count   Dtype  \n",
      "---  ------    --------------   -----  \n",
      " 0   userId_x  233213 non-null  int64  \n",
      " 1   movieId   233213 non-null  int64  \n",
      " 2   rating    233213 non-null  float64\n",
      " 3   title     233213 non-null  object \n",
      " 4   genres    233213 non-null  object \n",
      " 5   userId_y  233213 non-null  int64  \n",
      " 6   tag       233213 non-null  object \n",
      "dtypes: float64(1), int64(3), object(3)\n",
      "memory usage: 12.5+ MB\n"
     ]
    }
   ],
   "source": [
    "df_final.info()"
   ]
  },
  {
   "cell_type": "markdown",
   "metadata": {},
   "source": [
    "#### The merged dataset has 233,213 rows and 7 columns. There are columns that have been duplicated for example userId that need clean up"
   ]
  },
  {
   "cell_type": "markdown",
   "metadata": {},
   "source": [
    "#### I am going to clean columns with same name after merging by dropping one of them."
   ]
  },
  {
   "cell_type": "code",
   "execution_count": 9,
   "metadata": {},
   "outputs": [
    {
     "data": {
      "text/html": [
       "<div>\n",
       "<style scoped>\n",
       "    .dataframe tbody tr th:only-of-type {\n",
       "        vertical-align: middle;\n",
       "    }\n",
       "\n",
       "    .dataframe tbody tr th {\n",
       "        vertical-align: top;\n",
       "    }\n",
       "\n",
       "    .dataframe thead th {\n",
       "        text-align: right;\n",
       "    }\n",
       "</style>\n",
       "<table border=\"1\" class=\"dataframe\">\n",
       "  <thead>\n",
       "    <tr style=\"text-align: right;\">\n",
       "      <th></th>\n",
       "      <th>userId_x</th>\n",
       "      <th>movieId</th>\n",
       "      <th>rating</th>\n",
       "      <th>title</th>\n",
       "      <th>genres</th>\n",
       "      <th>tag</th>\n",
       "    </tr>\n",
       "  </thead>\n",
       "  <tbody>\n",
       "    <tr>\n",
       "      <th>0</th>\n",
       "      <td>1</td>\n",
       "      <td>1</td>\n",
       "      <td>4.0</td>\n",
       "      <td>Toy Story (1995)</td>\n",
       "      <td>Adventure|Animation|Children|Comedy|Fantasy</td>\n",
       "      <td>pixar</td>\n",
       "    </tr>\n",
       "    <tr>\n",
       "      <th>1</th>\n",
       "      <td>1</td>\n",
       "      <td>1</td>\n",
       "      <td>4.0</td>\n",
       "      <td>Toy Story (1995)</td>\n",
       "      <td>Adventure|Animation|Children|Comedy|Fantasy</td>\n",
       "      <td>pixar</td>\n",
       "    </tr>\n",
       "    <tr>\n",
       "      <th>2</th>\n",
       "      <td>1</td>\n",
       "      <td>1</td>\n",
       "      <td>4.0</td>\n",
       "      <td>Toy Story (1995)</td>\n",
       "      <td>Adventure|Animation|Children|Comedy|Fantasy</td>\n",
       "      <td>fun</td>\n",
       "    </tr>\n",
       "    <tr>\n",
       "      <th>3</th>\n",
       "      <td>1</td>\n",
       "      <td>3</td>\n",
       "      <td>4.0</td>\n",
       "      <td>Grumpier Old Men (1995)</td>\n",
       "      <td>Comedy|Romance</td>\n",
       "      <td>moldy</td>\n",
       "    </tr>\n",
       "    <tr>\n",
       "      <th>4</th>\n",
       "      <td>1</td>\n",
       "      <td>3</td>\n",
       "      <td>4.0</td>\n",
       "      <td>Grumpier Old Men (1995)</td>\n",
       "      <td>Comedy|Romance</td>\n",
       "      <td>old</td>\n",
       "    </tr>\n",
       "  </tbody>\n",
       "</table>\n",
       "</div>"
      ],
      "text/plain": [
       "   userId_x  movieId  rating                    title  \\\n",
       "0         1        1     4.0         Toy Story (1995)   \n",
       "1         1        1     4.0         Toy Story (1995)   \n",
       "2         1        1     4.0         Toy Story (1995)   \n",
       "3         1        3     4.0  Grumpier Old Men (1995)   \n",
       "4         1        3     4.0  Grumpier Old Men (1995)   \n",
       "\n",
       "                                        genres    tag  \n",
       "0  Adventure|Animation|Children|Comedy|Fantasy  pixar  \n",
       "1  Adventure|Animation|Children|Comedy|Fantasy  pixar  \n",
       "2  Adventure|Animation|Children|Comedy|Fantasy    fun  \n",
       "3                               Comedy|Romance  moldy  \n",
       "4                               Comedy|Romance    old  "
      ]
     },
     "execution_count": 9,
     "metadata": {},
     "output_type": "execute_result"
    }
   ],
   "source": [
    "df_final = df_final.drop(columns=['userId_y'])\n",
    "df_final.head()"
   ]
  },
  {
   "cell_type": "markdown",
   "metadata": {},
   "source": [
    "#### Rename columns with appended suffix after merging datasets"
   ]
  },
  {
   "cell_type": "code",
   "execution_count": 10,
   "metadata": {},
   "outputs": [
    {
     "data": {
      "text/html": [
       "<div>\n",
       "<style scoped>\n",
       "    .dataframe tbody tr th:only-of-type {\n",
       "        vertical-align: middle;\n",
       "    }\n",
       "\n",
       "    .dataframe tbody tr th {\n",
       "        vertical-align: top;\n",
       "    }\n",
       "\n",
       "    .dataframe thead th {\n",
       "        text-align: right;\n",
       "    }\n",
       "</style>\n",
       "<table border=\"1\" class=\"dataframe\">\n",
       "  <thead>\n",
       "    <tr style=\"text-align: right;\">\n",
       "      <th></th>\n",
       "      <th>userId</th>\n",
       "      <th>movieId</th>\n",
       "      <th>rating</th>\n",
       "      <th>title</th>\n",
       "      <th>genres</th>\n",
       "      <th>tag</th>\n",
       "    </tr>\n",
       "  </thead>\n",
       "  <tbody>\n",
       "    <tr>\n",
       "      <th>0</th>\n",
       "      <td>1</td>\n",
       "      <td>1</td>\n",
       "      <td>4.0</td>\n",
       "      <td>Toy Story (1995)</td>\n",
       "      <td>Adventure|Animation|Children|Comedy|Fantasy</td>\n",
       "      <td>pixar</td>\n",
       "    </tr>\n",
       "    <tr>\n",
       "      <th>1</th>\n",
       "      <td>1</td>\n",
       "      <td>1</td>\n",
       "      <td>4.0</td>\n",
       "      <td>Toy Story (1995)</td>\n",
       "      <td>Adventure|Animation|Children|Comedy|Fantasy</td>\n",
       "      <td>pixar</td>\n",
       "    </tr>\n",
       "    <tr>\n",
       "      <th>2</th>\n",
       "      <td>1</td>\n",
       "      <td>1</td>\n",
       "      <td>4.0</td>\n",
       "      <td>Toy Story (1995)</td>\n",
       "      <td>Adventure|Animation|Children|Comedy|Fantasy</td>\n",
       "      <td>fun</td>\n",
       "    </tr>\n",
       "    <tr>\n",
       "      <th>3</th>\n",
       "      <td>1</td>\n",
       "      <td>3</td>\n",
       "      <td>4.0</td>\n",
       "      <td>Grumpier Old Men (1995)</td>\n",
       "      <td>Comedy|Romance</td>\n",
       "      <td>moldy</td>\n",
       "    </tr>\n",
       "    <tr>\n",
       "      <th>4</th>\n",
       "      <td>1</td>\n",
       "      <td>3</td>\n",
       "      <td>4.0</td>\n",
       "      <td>Grumpier Old Men (1995)</td>\n",
       "      <td>Comedy|Romance</td>\n",
       "      <td>old</td>\n",
       "    </tr>\n",
       "  </tbody>\n",
       "</table>\n",
       "</div>"
      ],
      "text/plain": [
       "   userId  movieId  rating                    title  \\\n",
       "0       1        1     4.0         Toy Story (1995)   \n",
       "1       1        1     4.0         Toy Story (1995)   \n",
       "2       1        1     4.0         Toy Story (1995)   \n",
       "3       1        3     4.0  Grumpier Old Men (1995)   \n",
       "4       1        3     4.0  Grumpier Old Men (1995)   \n",
       "\n",
       "                                        genres    tag  \n",
       "0  Adventure|Animation|Children|Comedy|Fantasy  pixar  \n",
       "1  Adventure|Animation|Children|Comedy|Fantasy  pixar  \n",
       "2  Adventure|Animation|Children|Comedy|Fantasy    fun  \n",
       "3                               Comedy|Romance  moldy  \n",
       "4                               Comedy|Romance    old  "
      ]
     },
     "execution_count": 10,
     "metadata": {},
     "output_type": "execute_result"
    }
   ],
   "source": [
    "df_final.rename(columns={'userId_x': 'userId'}, inplace=True)\n",
    "df_final.head()\n"
   ]
  },
  {
   "cell_type": "code",
   "execution_count": 11,
   "metadata": {},
   "outputs": [
    {
     "data": {
      "text/plain": [
       "(233213, 6)"
      ]
     },
     "execution_count": 11,
     "metadata": {},
     "output_type": "execute_result"
    }
   ],
   "source": [
    "df_final.shape"
   ]
  },
  {
   "cell_type": "markdown",
   "metadata": {},
   "source": [
    "#### I will use isna() to check for null values"
   ]
  },
  {
   "cell_type": "code",
   "execution_count": 12,
   "metadata": {},
   "outputs": [
    {
     "data": {
      "text/plain": [
       "userId     0\n",
       "movieId    0\n",
       "rating     0\n",
       "title      0\n",
       "genres     0\n",
       "tag        0\n",
       "dtype: int64"
      ]
     },
     "execution_count": 12,
     "metadata": {},
     "output_type": "execute_result"
    }
   ],
   "source": [
    "df_final.isna().sum()"
   ]
  },
  {
   "cell_type": "markdown",
   "metadata": {},
   "source": [
    "#### I checked for duplicate rows to enable me clean the dataset"
   ]
  },
  {
   "cell_type": "code",
   "execution_count": 13,
   "metadata": {},
   "outputs": [
    {
     "name": "stdout",
     "output_type": "stream",
     "text": [
      "Duplicate Rows:\n",
      "<class 'pandas.core.frame.DataFrame'>\n",
      "Index: 13807 entries, 1 to 233175\n",
      "Data columns (total 6 columns):\n",
      " #   Column   Non-Null Count  Dtype  \n",
      "---  ------   --------------  -----  \n",
      " 0   userId   13807 non-null  int64  \n",
      " 1   movieId  13807 non-null  int64  \n",
      " 2   rating   13807 non-null  float64\n",
      " 3   title    13807 non-null  object \n",
      " 4   genres   13807 non-null  object \n",
      " 5   tag      13807 non-null  object \n",
      "dtypes: float64(1), int64(2), object(3)\n",
      "memory usage: 755.1+ KB\n"
     ]
    }
   ],
   "source": [
    "# Check for duplicate rows\n",
    "duplicates = df_final[df_final.duplicated()]\n",
    "print(\"Duplicate Rows:\")\n",
    "duplicates.info()\n"
   ]
  },
  {
   "cell_type": "markdown",
   "metadata": {},
   "source": [
    "### The merged dataset has 13807 duplicate rows that need clean up"
   ]
  },
  {
   "cell_type": "code",
   "execution_count": 14,
   "metadata": {},
   "outputs": [
    {
     "name": "stdout",
     "output_type": "stream",
     "text": [
      "<class 'pandas.core.frame.DataFrame'>\n",
      "Index: 219406 entries, 0 to 233212\n",
      "Data columns (total 6 columns):\n",
      " #   Column   Non-Null Count   Dtype  \n",
      "---  ------   --------------   -----  \n",
      " 0   userId   219406 non-null  int64  \n",
      " 1   movieId  219406 non-null  int64  \n",
      " 2   rating   219406 non-null  float64\n",
      " 3   title    219406 non-null  object \n",
      " 4   genres   219406 non-null  object \n",
      " 5   tag      219406 non-null  object \n",
      "dtypes: float64(1), int64(2), object(3)\n",
      "memory usage: 11.7+ MB\n"
     ]
    }
   ],
   "source": [
    "# Remove duplicate rows\n",
    "df_final_clean = df_final.drop_duplicates()\n",
    "df_final_clean.info()"
   ]
  },
  {
   "cell_type": "markdown",
   "metadata": {},
   "source": [
    "### Generating summary statistics will help get insights on the dataset distribution"
   ]
  },
  {
   "cell_type": "code",
   "execution_count": 15,
   "metadata": {},
   "outputs": [
    {
     "data": {
      "text/html": [
       "<div>\n",
       "<style scoped>\n",
       "    .dataframe tbody tr th:only-of-type {\n",
       "        vertical-align: middle;\n",
       "    }\n",
       "\n",
       "    .dataframe tbody tr th {\n",
       "        vertical-align: top;\n",
       "    }\n",
       "\n",
       "    .dataframe thead th {\n",
       "        text-align: right;\n",
       "    }\n",
       "</style>\n",
       "<table border=\"1\" class=\"dataframe\">\n",
       "  <thead>\n",
       "    <tr style=\"text-align: right;\">\n",
       "      <th></th>\n",
       "      <th>userId</th>\n",
       "      <th>movieId</th>\n",
       "      <th>rating</th>\n",
       "    </tr>\n",
       "  </thead>\n",
       "  <tbody>\n",
       "    <tr>\n",
       "      <th>count</th>\n",
       "      <td>219406.000000</td>\n",
       "      <td>219406.000000</td>\n",
       "      <td>219406.000000</td>\n",
       "    </tr>\n",
       "    <tr>\n",
       "      <th>mean</th>\n",
       "      <td>309.827945</td>\n",
       "      <td>12442.645949</td>\n",
       "      <td>3.959869</td>\n",
       "    </tr>\n",
       "    <tr>\n",
       "      <th>std</th>\n",
       "      <td>178.333073</td>\n",
       "      <td>28443.938687</td>\n",
       "      <td>0.971216</td>\n",
       "    </tr>\n",
       "    <tr>\n",
       "      <th>min</th>\n",
       "      <td>1.000000</td>\n",
       "      <td>1.000000</td>\n",
       "      <td>0.500000</td>\n",
       "    </tr>\n",
       "    <tr>\n",
       "      <th>25%</th>\n",
       "      <td>157.000000</td>\n",
       "      <td>296.000000</td>\n",
       "      <td>3.500000</td>\n",
       "    </tr>\n",
       "    <tr>\n",
       "      <th>50%</th>\n",
       "      <td>309.000000</td>\n",
       "      <td>1198.000000</td>\n",
       "      <td>4.000000</td>\n",
       "    </tr>\n",
       "    <tr>\n",
       "      <th>75%</th>\n",
       "      <td>460.000000</td>\n",
       "      <td>4639.000000</td>\n",
       "      <td>5.000000</td>\n",
       "    </tr>\n",
       "    <tr>\n",
       "      <th>max</th>\n",
       "      <td>610.000000</td>\n",
       "      <td>193565.000000</td>\n",
       "      <td>5.000000</td>\n",
       "    </tr>\n",
       "  </tbody>\n",
       "</table>\n",
       "</div>"
      ],
      "text/plain": [
       "              userId        movieId         rating\n",
       "count  219406.000000  219406.000000  219406.000000\n",
       "mean      309.827945   12442.645949       3.959869\n",
       "std       178.333073   28443.938687       0.971216\n",
       "min         1.000000       1.000000       0.500000\n",
       "25%       157.000000     296.000000       3.500000\n",
       "50%       309.000000    1198.000000       4.000000\n",
       "75%       460.000000    4639.000000       5.000000\n",
       "max       610.000000  193565.000000       5.000000"
      ]
     },
     "execution_count": 15,
     "metadata": {},
     "output_type": "execute_result"
    }
   ],
   "source": [
    "df_final_clean.describe()"
   ]
  },
  {
   "cell_type": "markdown",
   "metadata": {},
   "source": [
    "### 2.2 Exploratory Data Analysis (EDA)"
   ]
  },
  {
   "cell_type": "markdown",
   "metadata": {},
   "source": [
    "#### Distribution of Movie Ratings"
   ]
  },
  {
   "cell_type": "code",
   "execution_count": 16,
   "metadata": {},
   "outputs": [
    {
     "data": {
      "image/png": "[encoded data removed]",
      "text/plain": [
       "<Figure size 1000x600 with 1 Axes>"
      ]
     },
     "metadata": {},
     "output_type": "display_data"
    }
   ],
   "source": [
    "# Distribution of movie ratings\n",
    "plt.figure(figsize=(10, 6))\n",
    "df_final_clean['rating'].hist(bins=10, edgecolor='black')\n",
    "plt.xlabel('Rating')\n",
    "plt.ylabel('Number of Ratings')\n",
    "plt.title('Distribution of Movie Ratings')\n",
    "plt.show()\n",
    "\n",
    "# Most and least frequently rated movies\n",
    "rating_counts = df_final_clean.groupby('movieId').size().reset_index(name='count')\n",
    "most_rated = rating_counts.sort_values(by='count', ascending=False).head(10)\n",
    "least_rated = rating_counts.sort_values(by='count', ascending=True).head(10)\n"
   ]
  },
  {
   "cell_type": "markdown",
   "metadata": {},
   "source": [
    "### Ascertain top 10 movies by number of 5-staff ratings"
   ]
  },
  {
   "cell_type": "code",
   "execution_count": null,
   "metadata": {},
   "outputs": [
    {
     "data": {
      "image/png": "[encoded data removed]",
      "text/plain": [
       "<Figure size 1200x600 with 1 Axes>"
      ]
     },
     "metadata": {},
     "output_type": "display_data"
    }
   ],
   "source": [
    "# Filter ratings for score of 5\n",
    "high_ratings = df_final_clean[df_final_clean['rating'] == 5.0]\n",
    "\n",
    "# Count the number of 5-star ratings per movie\n",
    "top_movies = high_ratings.groupby('movieId').size().reset_index(name='count')\n",
    "\n",
    "# Merge with movie titles\n",
    "top_movies = top_movies.merge(df_final_clean[['movieId', 'title']].drop_duplicates(), on='movieId')\n",
    "\n",
    "# Get the top 10 movies\n",
    "top_10_movies = top_movies.sort_values(by='count', ascending=False).head(10)\n",
    "\n",
    "# Plot the data\n",
    "plt.figure(figsize=(12, 6))\n",
    "plt.barh(top_10_movies['title'], top_10_movies['count'], color='skyblue')\n",
    "plt.xlabel('Number of 5-Star Ratings')\n",
    "plt.title('Top 10 Movies by Number of 5-Star Ratings')\n",
    "plt.gca().invert_yaxis()\n",
    "plt.show()\n"
   ]
  },
  {
   "cell_type": "markdown",
   "metadata": {},
   "source": [
    "#### Distribution of Average Ratings per User"
   ]
  },
  {
   "cell_type": "code",
   "execution_count": 18,
   "metadata": {},
   "outputs": [
    {
     "data": {
      "image/png": "[encoded data removed]",
      "text/plain": [
       "<Figure size 1000x600 with 1 Axes>"
      ]
     },
     "metadata": {},
     "output_type": "display_data"
    }
   ],
   "source": [
    "avg_user_ratings = df_final_clean.groupby('userId')['rating'].mean()\n",
    "plt.figure(figsize=(10, 6))\n",
    "avg_user_ratings.hist(bins=50, edgecolor='black')\n",
    "plt.xlabel('Average Rating')\n",
    "plt.ylabel('Number of Users')\n",
    "plt.title('Distribution of Average Ratings per User')\n",
    "plt.show()\n"
   ]
  },
  {
   "cell_type": "markdown",
   "metadata": {},
   "source": [
    "#### Tag Analysis : Most Frequently Used Movie Tag"
   ]
  },
  {
   "cell_type": "code",
   "execution_count": null,
   "metadata": {},
   "outputs": [
    {
     "data": {
      "image/png": "[encoded data removed]",
      "text/plain": [
       "<Figure size 1000x600 with 1 Axes>"
      ]
     },
     "metadata": {},
     "output_type": "display_data"
    }
   ],
   "source": [
    "# Most frequently used tags\n",
    "tag_counts = df_final_clean['tag'].value_counts().head(10)\n",
    "\n",
    "# Plotting the most frequently used tags\n",
    "plt.figure(figsize=(10, 6))\n",
    "tag_counts.plot(kind='bar', color='skyblue')\n",
    "plt.xlabel('Tag')\n",
    "plt.ylabel('Count')\n",
    "plt.title('Most Frequently Used Movie Tags')\n",
    "plt.show()\n"
   ]
  },
  {
   "cell_type": "markdown",
   "metadata": {},
   "source": [
    "#### Genre analysis : Most Popular Movie Genres"
   ]
  },
  {
   "cell_type": "code",
   "execution_count": null,
   "metadata": {},
   "outputs": [
    {
     "name": "stderr",
     "output_type": "stream",
     "text": [
      "C:\\Users\\HP\\AppData\\Local\\Temp\\ipykernel_26512\\3826325753.py:2: SettingWithCopyWarning: \n",
      "A value is trying to be set on a copy of a slice from a DataFrame.\n",
      "Try using .loc[row_indexer,col_indexer] = value instead\n",
      "\n",
      "See the caveats in the documentation: https://pandas.pydata.org/pandas-docs/stable/user_guide/indexing.html#returning-a-view-versus-a-copy\n",
      "  df_final_clean['genres'] = df_final_clean['genres'].str.split('|')\n"
     ]
    },
    {
     "data": {
      "image/png": "[encoded data removed]",
      "text/plain": [
       "<Figure size 1000x600 with 1 Axes>"
      ]
     },
     "metadata": {},
     "output_type": "display_data"
    }
   ],
   "source": [
    "# Splitting genres\n",
    "df_final_clean['genres'] = df_final_clean['genres'].str.split('|')\n",
    "genre_counts = df_final_clean.explode('genres')['genres'].value_counts()\n",
    "\n",
    "# Most and least popular genres\n",
    "most_popular_genres = genre_counts.head(10)\n",
    "least_popular_genres = genre_counts.tail(10)\n",
    "\n",
    "# Plotting the most popular genres\n",
    "plt.figure(figsize=(10, 6))\n",
    "most_popular_genres.plot(kind='bar', color='skyblue')\n",
    "plt.xlabel('Genre')\n",
    "plt.ylabel('Number of Movies')\n",
    "plt.title('Most Popular Genres')\n",
    "plt.show()\n"
   ]
  },
  {
   "cell_type": "code",
   "execution_count": 21,
   "metadata": {},
   "outputs": [
    {
     "data": {
      "text/html": [
       "<div>\n",
       "<style scoped>\n",
       "    .dataframe tbody tr th:only-of-type {\n",
       "        vertical-align: middle;\n",
       "    }\n",
       "\n",
       "    .dataframe tbody tr th {\n",
       "        vertical-align: top;\n",
       "    }\n",
       "\n",
       "    .dataframe thead th {\n",
       "        text-align: right;\n",
       "    }\n",
       "</style>\n",
       "<table border=\"1\" class=\"dataframe\">\n",
       "  <thead>\n",
       "    <tr style=\"text-align: right;\">\n",
       "      <th></th>\n",
       "      <th>userId</th>\n",
       "      <th>movieId</th>\n",
       "      <th>rating</th>\n",
       "      <th>title</th>\n",
       "      <th>genres</th>\n",
       "      <th>tag</th>\n",
       "    </tr>\n",
       "  </thead>\n",
       "  <tbody>\n",
       "    <tr>\n",
       "      <th>0</th>\n",
       "      <td>1</td>\n",
       "      <td>1</td>\n",
       "      <td>4.0</td>\n",
       "      <td>Toy Story (1995)</td>\n",
       "      <td>[Adventure, Animation, Children, Comedy, Fantasy]</td>\n",
       "      <td>pixar</td>\n",
       "    </tr>\n",
       "    <tr>\n",
       "      <th>2</th>\n",
       "      <td>1</td>\n",
       "      <td>1</td>\n",
       "      <td>4.0</td>\n",
       "      <td>Toy Story (1995)</td>\n",
       "      <td>[Adventure, Animation, Children, Comedy, Fantasy]</td>\n",
       "      <td>fun</td>\n",
       "    </tr>\n",
       "    <tr>\n",
       "      <th>3</th>\n",
       "      <td>1</td>\n",
       "      <td>3</td>\n",
       "      <td>4.0</td>\n",
       "      <td>Grumpier Old Men (1995)</td>\n",
       "      <td>[Comedy, Romance]</td>\n",
       "      <td>moldy</td>\n",
       "    </tr>\n",
       "    <tr>\n",
       "      <th>4</th>\n",
       "      <td>1</td>\n",
       "      <td>3</td>\n",
       "      <td>4.0</td>\n",
       "      <td>Grumpier Old Men (1995)</td>\n",
       "      <td>[Comedy, Romance]</td>\n",
       "      <td>old</td>\n",
       "    </tr>\n",
       "    <tr>\n",
       "      <th>5</th>\n",
       "      <td>1</td>\n",
       "      <td>47</td>\n",
       "      <td>5.0</td>\n",
       "      <td>Seven (a.k.a. Se7en) (1995)</td>\n",
       "      <td>[Mystery, Thriller]</td>\n",
       "      <td>mystery</td>\n",
       "    </tr>\n",
       "  </tbody>\n",
       "</table>\n",
       "</div>"
      ],
      "text/plain": [
       "   userId  movieId  rating                        title  \\\n",
       "0       1        1     4.0             Toy Story (1995)   \n",
       "2       1        1     4.0             Toy Story (1995)   \n",
       "3       1        3     4.0      Grumpier Old Men (1995)   \n",
       "4       1        3     4.0      Grumpier Old Men (1995)   \n",
       "5       1       47     5.0  Seven (a.k.a. Se7en) (1995)   \n",
       "\n",
       "                                              genres      tag  \n",
       "0  [Adventure, Animation, Children, Comedy, Fantasy]    pixar  \n",
       "2  [Adventure, Animation, Children, Comedy, Fantasy]      fun  \n",
       "3                                  [Comedy, Romance]    moldy  \n",
       "4                                  [Comedy, Romance]      old  \n",
       "5                                [Mystery, Thriller]  mystery  "
      ]
     },
     "execution_count": 21,
     "metadata": {},
     "output_type": "execute_result"
    }
   ],
   "source": [
    "df_final_clean.head()"
   ]
  },
  {
   "cell_type": "code",
   "execution_count": 22,
   "metadata": {},
   "outputs": [
    {
     "data": {
      "text/html": [
       "<div>\n",
       "<style scoped>\n",
       "    .dataframe tbody tr th:only-of-type {\n",
       "        vertical-align: middle;\n",
       "    }\n",
       "\n",
       "    .dataframe tbody tr th {\n",
       "        vertical-align: top;\n",
       "    }\n",
       "\n",
       "    .dataframe thead th {\n",
       "        text-align: right;\n",
       "    }\n",
       "</style>\n",
       "<table border=\"1\" class=\"dataframe\">\n",
       "  <thead>\n",
       "    <tr style=\"text-align: right;\">\n",
       "      <th></th>\n",
       "      <th>userId</th>\n",
       "      <th>rating</th>\n",
       "    </tr>\n",
       "  </thead>\n",
       "  <tbody>\n",
       "    <tr>\n",
       "      <th>0</th>\n",
       "      <td>1</td>\n",
       "      <td>558</td>\n",
       "    </tr>\n",
       "    <tr>\n",
       "      <th>1</th>\n",
       "      <td>2</td>\n",
       "      <td>128</td>\n",
       "    </tr>\n",
       "    <tr>\n",
       "      <th>2</th>\n",
       "      <td>3</td>\n",
       "      <td>27</td>\n",
       "    </tr>\n",
       "    <tr>\n",
       "      <th>3</th>\n",
       "      <td>4</td>\n",
       "      <td>543</td>\n",
       "    </tr>\n",
       "    <tr>\n",
       "      <th>4</th>\n",
       "      <td>5</td>\n",
       "      <td>267</td>\n",
       "    </tr>\n",
       "  </tbody>\n",
       "</table>\n",
       "</div>"
      ],
      "text/plain": [
       "   userId  rating\n",
       "0       1     558\n",
       "1       2     128\n",
       "2       3      27\n",
       "3       4     543\n",
       "4       5     267"
      ]
     },
     "execution_count": 22,
     "metadata": {},
     "output_type": "execute_result"
    }
   ],
   "source": [
    "numberOf_movies_voted_by_user = pd.DataFrame(df_final_clean.groupby('userId')['rating'].agg('count'))     \n",
    "numberOf_movies_voted_by_user.reset_index(level = 0,inplace = True)\n",
    "numberOf_movies_voted_by_user.head()"
   ]
  },
  {
   "cell_type": "code",
   "execution_count": 23,
   "metadata": {},
   "outputs": [
    {
     "data": {
      "text/plain": [
       "Text(0, 0.5, 'Number Of Movies rated by user')"
      ]
     },
     "execution_count": 23,
     "metadata": {},
     "output_type": "execute_result"
    },
    {
     "data": {
      "image/png": "[encoded data removed]",
      "text/plain": [
       "<Figure size 640x480 with 1 Axes>"
      ]
     },
     "metadata": {},
     "output_type": "display_data"
    }
   ],
   "source": [
    "plt.figure()\n",
    "ax = sns.scatterplot(y = 'rating', x = 'userId', data = numberOf_movies_voted_by_user)\n",
    "plt.axhline(y=60,color='r')\n",
    "plt.ylabel('Number Of Movies rated by user')"
   ]
  },
  {
   "cell_type": "markdown",
   "metadata": {},
   "source": [
    "## 3. DATA PREPARATION"
   ]
  },
  {
   "cell_type": "markdown",
   "metadata": {},
   "source": [
    "#### Get to know the maximum rating"
   ]
  },
  {
   "cell_type": "markdown",
   "metadata": {},
   "source": [
    "#### Surprise is a Python scikit for recommender systems. Surpirse library will need a rating scale from the dataset."
   ]
  },
  {
   "cell_type": "code",
   "execution_count": 24,
   "metadata": {},
   "outputs": [
    {
     "name": "stdout",
     "output_type": "stream",
     "text": [
      "The minimum rating is: 0.5\n",
      "The maximum rating is: 5.0\n"
     ]
    }
   ],
   "source": [
    "# Establishing the scale\n",
    "\n",
    "# Establishing the minimum rating\n",
    "min_rating = df_final_clean['rating'].min()\n",
    "print(f\"The minimum rating is: {min_rating}\")\n",
    "\n",
    "# Establishing the maximum rating\n",
    "max_rating = df_final_clean['rating'].max()\n",
    "print(f\"The maximum rating is: {max_rating}\")\n"
   ]
  },
  {
   "cell_type": "markdown",
   "metadata": {},
   "source": [
    "- Ratings are made on a 5-star scale (0.5 stars - 5.0 stars)."
   ]
  },
  {
   "cell_type": "markdown",
   "metadata": {},
   "source": [
    "#### I prepared data in a format compatible with surprise by use of a reader"
   ]
  },
  {
   "cell_type": "code",
   "execution_count": 25,
   "metadata": {},
   "outputs": [],
   "source": [
    "# Define the rating scale (e.g., 0.5 to 5.0)\n",
    "reader = Reader(rating_scale=(0.5, 5.0))\n",
    "\n",
    "# Convert the DataFrame to a Surprise dataset\n",
    "data = Dataset.load_from_df(df_final_clean[[\"userId\", \"movieId\", \"rating\"]], reader)"
   ]
  },
  {
   "cell_type": "markdown",
   "metadata": {},
   "source": [
    "### Split the dataset to training and testing sets"
   ]
  },
  {
   "cell_type": "code",
   "execution_count": 26,
   "metadata": {},
   "outputs": [],
   "source": [
    "# Split the dataset\n",
    "trainset, testset = train_test_split(data, test_size=0.2, random_state=42)"
   ]
  },
  {
   "cell_type": "markdown",
   "metadata": {},
   "source": [
    "## 4. MODEL & EVALUATION"
   ]
  },
  {
   "cell_type": "markdown",
   "metadata": {},
   "source": [
    "### Determining the best model \n",
    "\n",
    "#### I will use different models and see which ones perform best. For consistency, I will use RMSE to evaluate models. \n",
    "\n",
    "#### When evaluating models with Root Mean Squared Error (RMSE), a lower value is preferable. RMSE quantifies the average error magnitude between predicted and actual values, emphasizing larger Therefore, a lower RMSE signifies that the model's predictions are more accurate, indicating superior model performance.\n",
    "\n"
   ]
  },
  {
   "cell_type": "markdown",
   "metadata": {},
   "source": [
    "### i. Collaborative Filtering with Singular Value Decomposition (SVD)"
   ]
  },
  {
   "cell_type": "markdown",
   "metadata": {},
   "source": [
    "Collaborative filtering is a recommendation technique that analyzes a user’s behavior and compares it to the behavior of other users in the database. It leverages the collective history of all users to shape and enhance the recommendation algorithm. Singular-Value Decomposition or SVD is a common and widely used matrix decomposition method. All matrices are able to be factored using an SVD, which makes it more stable than other methods, such as the eigendecomposition."
   ]
  },
  {
   "cell_type": "markdown",
   "metadata": {},
   "source": [
    "### a. SVD model"
   ]
  },
  {
   "cell_type": "code",
   "execution_count": 27,
   "metadata": {},
   "outputs": [
    {
     "data": {
      "text/plain": [
       "<surprise.prediction_algorithms.matrix_factorization.SVD at 0x227b8d813d0>"
      ]
     },
     "execution_count": 27,
     "metadata": {},
     "output_type": "execute_result"
    }
   ],
   "source": [
    "# Train the model\n",
    "svd=SVD()\n",
    "svd.fit(trainset)"
   ]
  },
  {
   "cell_type": "code",
   "execution_count": 28,
   "metadata": {},
   "outputs": [
    {
     "name": "stdout",
     "output_type": "stream",
     "text": [
      "RMSE: 0.3956\n",
      "0.39556415191590927\n"
     ]
    }
   ],
   "source": [
    "predictions = svd.test(testset)\n",
    "print(accuracy.rmse(predictions))"
   ]
  },
  {
   "cell_type": "markdown",
   "metadata": {},
   "source": [
    "### b. Tuned SVD"
   ]
  },
  {
   "cell_type": "code",
   "execution_count": 29,
   "metadata": {},
   "outputs": [],
   "source": [
    "# Defining the parameter grid\n",
    "param_grid = {\n",
    "    'n_factors': [700,800],\n",
    "    'n_epochs': [40,60],\n",
    "    'lr_all': [0.12, 0.16],\n",
    "    'reg_all': [0.00001, 0.0001]\n",
    "}"
   ]
  },
  {
   "cell_type": "code",
   "execution_count": 30,
   "metadata": {},
   "outputs": [],
   "source": [
    "# Gridsearch with SVD\n",
    "GridSearch = GridSearchCV(SVD, param_grid=param_grid, cv=2, n_jobs=-1, joblib_verbose=0)\n",
    "GridSearch.fit(data)\n"
   ]
  },
  {
   "cell_type": "code",
   "execution_count": 31,
   "metadata": {},
   "outputs": [
    {
     "name": "stdout",
     "output_type": "stream",
     "text": [
      "Best parameters: {'n_factors': 800, 'n_epochs': 60, 'lr_all': 0.12, 'reg_all': 1e-05}\n"
     ]
    }
   ],
   "source": [
    "# Print the best parameters\n",
    "print(\"Best parameters:\", GridSearch.best_params['rmse'])"
   ]
  },
  {
   "cell_type": "code",
   "execution_count": 32,
   "metadata": {},
   "outputs": [
    {
     "name": "stdout",
     "output_type": "stream",
     "text": [
      "RMSE: 0.2941\n",
      "0.29406845115043323\n"
     ]
    }
   ],
   "source": [
    "# Initialize the SVD algorithm with the best parameters, fit the model, make predictions and evaluate mode accuracy\n",
    "svd_tuned = GridSearch.best_estimator['rmse']\n",
    "svd_tuned.fit(trainset)\n",
    "predictions = svd_tuned.test(testset)\n",
    "print(accuracy.rmse(predictions))"
   ]
  },
  {
   "cell_type": "code",
   "execution_count": 33,
   "metadata": {},
   "outputs": [],
   "source": [
    "\n",
    "# svd_tuned = SVD(n_factors=800, n_epochs=40, lr_all=0.12, reg_all=0.00001)\n",
    "# svd_tuned.fit(trainset)\n",
    "# predictions = svd_tuned.test(testset)\n",
    "# print(accuracy.rmse(predictions))"
   ]
  },
  {
   "cell_type": "markdown",
   "metadata": {},
   "source": [
    "#### The RMSE for the tuned SVD model is much lower than the initial model, signifying the tuned model to be having more accuracy in prediction that the later, hence a superior mode."
   ]
  },
  {
   "cell_type": "markdown",
   "metadata": {},
   "source": [
    "### ii. Content-Based Filtering Model"
   ]
  },
  {
   "cell_type": "markdown",
   "metadata": {},
   "source": [
    "#### Content-based filtering is a technique for making recommendations by suggesting items that are similar to those a user has previously enjoyed."
   ]
  },
  {
   "cell_type": "code",
   "execution_count": 34,
   "metadata": {},
   "outputs": [],
   "source": [
    "rating_matrix = df_final_clean.pivot_table(index='movieId', columns='userId', values='rating').fillna(0)\n",
    "\n",
    "def compute_similarity(matrix, method='cosine'):\n",
    "    if method == 'cosine':\n",
    "        return cosine_similarity(matrix, matrix)\n",
    "    elif method == 'euclidean':\n",
    "        return euclidean_distances(matrix, matrix)\n",
    "    elif method == 'pearson':\n",
    "        return pearson_correlation(matrix)\n",
    "    else:\n",
    "        raise ValueError(\"Unknown similarity method\")\n",
    "\n",
    "def pearson_correlation(matrix):\n",
    "    correlation_matrix = np.zeros((matrix.shape[0], matrix.shape[0]))\n",
    "    for i in range(matrix.shape[0]):\n",
    "        for j in range(matrix.shape[0]):\n",
    "            correlation_matrix[i, j] = pearsonr(matrix[i], matrix[j])[0]\n",
    "    return correlation_matrix\n",
    "\n",
    "def get_content_based_recommendations(movie_id, similarity_method='cosine'):\n",
    "    sim_matrix = compute_similarity(rating_matrix.values, method=similarity_method)\n",
    "    idx = rating_matrix.index.tolist().index(movie_id)\n",
    "    sim_scores = list(enumerate(sim_matrix[idx]))\n",
    "    sim_scores = sorted(sim_scores, key=lambda x: x[1], reverse=True)\n",
    "    sim_scores = sim_scores[1:6]\n",
    "    movie_indices = [i[0] for i in sim_scores]\n",
    "    recommendations = df_final_clean[df_final_clean['movieId'].isin(rating_matrix.index[movie_indices])]\n",
    "    movie_titles_ratings = recommendations.groupby('movieId').agg({'title': 'first', 'rating': 'mean'}).reset_index()\n",
    "    return movie_titles_ratings\n"
   ]
  },
  {
   "cell_type": "markdown",
   "metadata": {},
   "source": [
    "### iii. Hybrid Approach"
   ]
  },
  {
   "cell_type": "code",
   "execution_count": 35,
   "metadata": {},
   "outputs": [],
   "source": [
    "def get_hybrid_recommendations(user_id, movie_id, svd_tuned, df_final_clean, similarity_method='cosine'):\n",
    "    all_movie_ids = df_final_clean['movieId'].unique()\n",
    "    user_rated_movie_ids = df_final_clean[df_final_clean['userId'] == user_id]['movieId'].unique()\n",
    "    movie_ids_to_predict = [movie_id for movie_id in all_movie_ids if movie_id not in user_rated_movie_ids]\n",
    "    predictions = [svd_tuned.predict(user_id, movie_id) for movie_id in movie_ids_to_predict]\n",
    "    top_5_predictions = sorted(predictions, key=lambda x: x.est, reverse=True)[:5]\n",
    "    top_5_movie_ids_cf = [pred.iid for pred in top_5_predictions]\n",
    "    cf_recommendations = df_final_clean[df_final_clean['movieId'].isin(top_5_movie_ids_cf)]\n",
    "    cf_movie_titles_ratings = cf_recommendations.groupby('movieId').agg({'title': 'first', 'rating': 'mean'}).reset_index()\n",
    "    \n",
    "    cbf_movie_titles_ratings = get_content_based_recommendations(movie_id, similarity_method=similarity_method)\n",
    "    \n",
    "    combined_recommendations = pd.concat([cf_movie_titles_ratings, cbf_movie_titles_ratings]).drop_duplicates(subset=['title']).head(5)\n",
    "    \n",
    "    return combined_recommendations\n"
   ]
  },
  {
   "cell_type": "markdown",
   "metadata": {},
   "source": [
    "## 5. Making recommendations"
   ]
  },
  {
   "cell_type": "markdown",
   "metadata": {},
   "source": [
    "#### i. Collaborative Filtering (SVD) Recommendations"
   ]
  },
  {
   "cell_type": "code",
   "execution_count": null,
   "metadata": {},
   "outputs": [
    {
     "name": "stdout",
     "output_type": "stream",
     "text": [
      "Recommendations using Collaborative Filtering (SVD):\n",
      "1. Shawshank Redemption, The (1994) - Rating: 5.00\n",
      "2. Lone Star (1996) - Rating: 5.00\n",
      "3. Waiting for Guffman (1996) - Rating: 5.00\n",
      "4. Lord of the Rings: The Fellowship of the Ring, The (2001) - Rating: 5.00\n",
      "5. Beautiful Mind, A (2001) - Rating: 5.00\n"
     ]
    }
   ],
   "source": [
    "# Usage of Collaborative Filtering (SVD)\n",
    "def get_svd_recommendations(user_id, svd_tuned, df_final_clean):\n",
    "    all_movie_ids = df_final_clean['movieId'].unique()\n",
    "    user_rated_movie_ids = df_final_clean[df_final_clean['userId'] == user_id]['movieId'].unique()\n",
    "    movie_ids_to_predict = [movie_id for movie_id in all_movie_ids if movie_id not in user_rated_movie_ids]\n",
    "    predictions = [svd_tuned.predict(user_id, movie_id) for movie_id in movie_ids_to_predict]\n",
    "    top_5_predictions = sorted(predictions, key=lambda x: x.est, reverse=True)[:5]\n",
    "    top_5_movie_info = [(pred.iid, pred.est) for pred in top_5_predictions]\n",
    "    top_5_movie_titles_ratings = [(df_final_clean[df_final_clean['movieId'] == movie_id]['title'].values[0], rating) for movie_id, rating in top_5_movie_info]\n",
    "    for i, (title, rating) in enumerate(top_5_movie_titles_ratings, 1):\n",
    "        print(f\"{i}. {title} - Rating: {rating:.2f}\")\n",
    "\n",
    "user_id = 1 \n",
    "print(\"Recommendations using Collaborative Filtering (SVD):\")\n",
    "get_svd_recommendations(user_id, svd_tuned, df_final_clean)\n"
   ]
  },
  {
   "cell_type": "markdown",
   "metadata": {},
   "source": [
    "#### ii. Content-Based Filtering Recommendations"
   ]
  },
  {
   "cell_type": "code",
   "execution_count": null,
   "metadata": {},
   "outputs": [
    {
     "name": "stdout",
     "output_type": "stream",
     "text": [
      "Recommendations using Content_Based Filtering:\n"
     ]
    },
    {
     "data": {
      "text/html": [
       "<div>\n",
       "<style scoped>\n",
       "    .dataframe tbody tr th:only-of-type {\n",
       "        vertical-align: middle;\n",
       "    }\n",
       "\n",
       "    .dataframe tbody tr th {\n",
       "        vertical-align: top;\n",
       "    }\n",
       "\n",
       "    .dataframe thead th {\n",
       "        text-align: right;\n",
       "    }\n",
       "</style>\n",
       "<table border=\"1\" class=\"dataframe\">\n",
       "  <thead>\n",
       "    <tr style=\"text-align: right;\">\n",
       "      <th></th>\n",
       "      <th>movieId</th>\n",
       "      <th>title</th>\n",
       "      <th>rating</th>\n",
       "    </tr>\n",
       "  </thead>\n",
       "  <tbody>\n",
       "    <tr>\n",
       "      <th>0</th>\n",
       "      <td>260</td>\n",
       "      <td>Star Wars: Episode IV - A New Hope (1977)</td>\n",
       "      <td>4.231076</td>\n",
       "    </tr>\n",
       "    <tr>\n",
       "      <th>1</th>\n",
       "      <td>356</td>\n",
       "      <td>Forrest Gump (1994)</td>\n",
       "      <td>4.164134</td>\n",
       "    </tr>\n",
       "    <tr>\n",
       "      <th>2</th>\n",
       "      <td>480</td>\n",
       "      <td>Jurassic Park (1993)</td>\n",
       "      <td>3.750000</td>\n",
       "    </tr>\n",
       "    <tr>\n",
       "      <th>3</th>\n",
       "      <td>780</td>\n",
       "      <td>Independence Day (a.k.a. ID4) (1996)</td>\n",
       "      <td>3.445545</td>\n",
       "    </tr>\n",
       "    <tr>\n",
       "      <th>4</th>\n",
       "      <td>3114</td>\n",
       "      <td>Toy Story 2 (1999)</td>\n",
       "      <td>3.860825</td>\n",
       "    </tr>\n",
       "  </tbody>\n",
       "</table>\n",
       "</div>"
      ],
      "text/plain": [
       "   movieId                                      title    rating\n",
       "0      260  Star Wars: Episode IV - A New Hope (1977)  4.231076\n",
       "1      356                        Forrest Gump (1994)  4.164134\n",
       "2      480                       Jurassic Park (1993)  3.750000\n",
       "3      780       Independence Day (a.k.a. ID4) (1996)  3.445545\n",
       "4     3114                         Toy Story 2 (1999)  3.860825"
      ]
     },
     "execution_count": 37,
     "metadata": {},
     "output_type": "execute_result"
    }
   ],
   "source": [
    "# Usage OF content-based recommendations\n",
    "print(\"Recommendations using Content_Based Filtering:\")\n",
    "get_content_based_recommendations(1, similarity_method='cosine')\n",
    "\n"
   ]
  },
  {
   "cell_type": "markdown",
   "metadata": {},
   "source": [
    "#### iii. Hybrid Approach Recommendations"
   ]
  },
  {
   "cell_type": "code",
   "execution_count": null,
   "metadata": {},
   "outputs": [
    {
     "name": "stdout",
     "output_type": "stream",
     "text": [
      "Recommendations using Hybrid Approach:\n",
      "1. Shawshank Redemption, The (1994) - Average Rating: 4.43\n",
      "2. Lone Star (1996) - Average Rating: 4.16\n",
      "3. Waiting for Guffman (1996) - Average Rating: 3.88\n",
      "4. Lord of the Rings: The Fellowship of the Ring, The (2001) - Average Rating: 4.11\n",
      "5. Beautiful Mind, A (2001) - Average Rating: 4.00\n"
     ]
    }
   ],
   "source": [
    "# Usage OF Hybrid Approach recommendations\n",
    "user_id = 1  \n",
    "movie_id = 1  \n",
    "hybrid_recommendations = get_hybrid_recommendations(user_id, movie_id, svd_tuned, df_final_clean, similarity_method='cosine')\n",
    "print(\"Recommendations using Hybrid Approach:\")\n",
    "for i, row in hybrid_recommendations.iterrows():\n",
    "    print(f\"{i+1}. {row['title']} - Average Rating: {row['rating']:.2f}\")\n"
   ]
  },
  {
   "cell_type": "markdown",
   "metadata": {},
   "source": [
    "### Conclusion"
   ]
  },
  {
   "cell_type": "markdown",
   "metadata": {},
   "source": [
    "### Findings \n",
    "\n",
    "#### Accuracy and Predictions:\n",
    "\n",
    "* The SVD model gives extremely high predicted ratings (all 5.00), indicating strong confidence in these recommendations based on user rating patterns.\n",
    "\n",
    "* Content-Based Filtering method provides slightly varied predicted ratings, reflecting the degree of similarity between movies based on their features.\n",
    "\n",
    "* The hybrid approach shows a more balanced set of average ratings, considering both user-item interactions (collaborative filtering) and item features (content-based filtering).\n",
    "\n",
    "#### Recommendation Overlap:\n",
    "\n",
    "* SVD and Hybrid Approach: Both models recommend \"Shawshank Redemption, The (1994)\", \"Waiting for Guffman (1996)\", \"Lord of the Rings: The Fellowship of the Ring, The (2001)\", \"Lord of the Rings: The Two Towers, The (2002)\", and \"Whiplash (2014)\", showing a strong preference for these movies based on user behavior.\n",
    "\n",
    "* Content-Based Filtering: This method provides different recommendations, including \"Star Wars: Episode IV - A New Hope (1977)\", \"Forrest Gump (1994)\", \"Jurassic Park (1993)\", \"Independence Day (1996)\", and \"Toy Story 2 (1999)\".\n",
    "\n",
    "#### Diversity of Recommendations:\n",
    "\n",
    "* The SVD model focuses on a specific set of movies with maximum predicted ratings, which might lack diversity.\n",
    "\n",
    "* Content-Based Filtering offers a more diverse set of recommendations based on the similarity of movie features, potentially exposing users to a wider range of movies.\n",
    "\n",
    "* Hybrid Approach combines the strengths of both collaborative filtering and content-based filtering, providing a balanced and diverse set of movie recommendations.\n",
    "\n",
    "### Overall,\n",
    "\n",
    "* SVD excels in capturing user preferences based on historical ratings.\n",
    "\n",
    "* Content-Based Filtering identifies similar movies based on features and content, offering diversity.\n",
    "\n",
    "* Hybrid Approach balances the strengths of both methods, providing personalized and diverse recommendations."
   ]
  },
  {
   "cell_type": "markdown",
   "metadata": {},
   "source": [
    "### Recommendation"
   ]
  },
  {
   "cell_type": "markdown",
   "metadata": {},
   "source": [
    "* Consider implementing other models like Neural Collaborative Filtering (NCF) for better performance.\n",
    "\n",
    "* Integrate more features like genres and tags to enhance the recommendation system."
   ]
  },
  {
   "cell_type": "markdown",
   "metadata": {},
   "source": [
    "### Insights for next steps"
   ]
  },
  {
   "cell_type": "markdown",
   "metadata": {},
   "source": [
    "* I would wish to try other other deep learning architectures."
   ]
  }
 ],
 "metadata": {
  "kernelspec": {
   "display_name": "base",
   "language": "python",
   "name": "python3"
  },
  "language_info": {
   "codemirror_mode": {
    "name": "ipython",
    "version": 3
   },
   "file_extension": ".py",
   "mimetype": "text/x-python",
   "name": "python",
   "nbconvert_exporter": "python",
   "pygments_lexer": "ipython3",
   "version": "3.12.3"
  }
 },
 "nbformat": 4,
 "nbformat_minor": 2
}

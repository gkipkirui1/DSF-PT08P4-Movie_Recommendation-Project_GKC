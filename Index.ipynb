{
 "cells": [
  {
   "cell_type": "markdown",
   "metadata": {},
   "source": [
    "For this project, I have used CRISP-DM framework in its data science process"
   ]
  },
  {
   "cell_type": "markdown",
   "metadata": {},
   "source": [
    "### Project Overview\n",
    "People from all walks of life can connect via movies. However, our personal tastes in movies still differ, ranging from concentrating on our favourite actors and directors to certain genres like romance, sci-fi, or thrillers. Although it's difficult to categorise movies that everyone would like, data scientists use behavioural patterns to find social groups with comparable movie tastes. As data scientists, we use machine learning to create a movie recommendation system by drawing insightful conclusions from audience behaviour and movies' characteristics. My project's objective is to create a model that, based on a user's assessments of previous movies, suggests the top five movies. By using the \"classic\" MovieLens dataset, which is widely utilised in scholarly research and proofs-of-concept for machine learning, I want to show the power of data-driven recommendations. The main focus of my recommendation system is to filter and predict only those movies that a user would prefer, given some data about the user."
   ]
  },
  {
   "cell_type": "markdown",
   "metadata": {},
   "source": [
    "## 1. BUSINESS UNDERSTANDING"
   ]
  },
  {
   "cell_type": "markdown",
   "metadata": {},
   "source": [
    "### 1.1 The audience\n",
    "\n",
    "The Target audience for this project are:\n",
    "* Movie lovers\n",
    "\n",
    "* Movie studios/distributors\n",
    "\n",
    "* E-commerce business selling movies"
   ]
  },
  {
   "cell_type": "markdown",
   "metadata": {},
   "source": [
    "### 1.2 Business Problem\n",
    "The audience are in need of a model that provides top 5 movie recommendations to a user, based on their ratings of other movies. Stakeholders often get frustrated and overwhelmed by the many movies available as it is difficult for them to find movies they will enjoy."
   ]
  },
  {
   "cell_type": "markdown",
   "metadata": {},
   "source": [
    "### 1.3 Business Objectives\n",
    "The objective of this project is to develop a model to:\n",
    "* Come up with a machine learning model that delivers personalized top 5 movie recommendations to users.\n",
    "\n",
    "* Base recommendations on individual movie ratings provided by users.\n",
    "\n",
    "* Achieve a more engaging and profitable recommendation system for the stakeholders.\n",
    "\n",
    "* Boost user satisfaction through personalized movie recommendations.\n",
    "\n",
    "* Expose movie users to new and diverse content, expanding their horizons and introducing them to items they might have overlooked.\n",
    "\n",
    "* Make it easier and faster for movie users to know top 5 movie recommendations based on their ratings for other movies."
   ]
  },
  {
   "cell_type": "markdown",
   "metadata": {},
   "source": [
    "### 1.4 Metrics of success"
   ]
  },
  {
   "cell_type": "markdown",
   "metadata": {},
   "source": [
    "### Similarity Metrics to use\n",
    "\n",
    "#### Cosine Similarity \n",
    "Cosine Similatity determines how vectors are related to each other by measuring the cosine angle between two vectors. The value also ranges from [-1, 1], with -1 meaning that the two vectors are diametrically opposed, 0 meaning the two vectors are perpendicular to one another, and 1 meaning that the vectors are the same. Here is the formula in the context of user similarity:\n",
    "\n",
    "### $$ \\text{cosine similarity}(u,v) = \\frac{\\sum_{i \\in I_{uv}}{r_{ui}*r_{vi}}}{\\sqrt{\\sum_{i \\in I_{uv} }{r_{ui}^{2}  }}  * \\sqrt{\\sum_{i \\in I_{uv} }{r_{ui}^{2}  }}} $$\n",
    "\n",
    "where $u$ is a user and $v$ is another user being compared to $u$. $i$ represents each item being rated. $I$ is the entire item set.\n",
    "\n"
   ]
  },
  {
   "cell_type": "markdown",
   "metadata": {},
   "source": [
    "#### Root Mean Square Error (RMSE)\n",
    "\n",
    "With Singular Value Decomposition (SVD), we turn the recommendation problem into an __Optimization__ problem that deals with how good we are in predicting the rating for items given a user. One common metric to achieve such optimization is __Root Mean Square Error (RMSE)__. A lower RMSE is indicative of improved performance and vice versa. RMSE is minimized on the known entries in the utility matrix. SVD has a great property that it has the minimal reconstruction Sum of Square Error (SSE); therefore, it is also commonly used in dimensionality reduction. Below is the formula to achieve this:\n",
    "\n",
    "$$min_{UV\\Sigma}\\sum_{i,j∈A}(A_{ij} - [UV\\Sigma^T]_{ij})^2$$\n",
    "\n",
    "\n",
    "RMSE and SSE are monotonically related. This means that the lower the SSE, the lower the RMSE. With the convenient property of SVD that it minimizes SSE, we know that it also minimizes RMSE. Thus, SVD is a great tool for this optimization problem. To predict the unseen item for a user, we simply multiply $U$, $V$, and $\\Sigma^{T}$."
   ]
  },
  {
   "cell_type": "markdown",
   "metadata": {},
   "source": [
    "#### 1.5 Data Source\n",
    "\n",
    "The data was sourced from https://grouplens.org/datasets/movielens/latest/ and has files named links.csv, movies.csv, ratings.csv and tags.csv. "
   ]
  },
  {
   "cell_type": "code",
   "execution_count": 1,
   "metadata": {},
   "outputs": [],
   "source": [
    "# import relevant libraries\n",
    "import zipfile\n",
    "import pandas as pd\n",
    "import numpy as np\n",
    "import seaborn as sns\n",
    "import matplotlib.pyplot as plt\n",
    "from surprise import Dataset, Reader,SVD, accuracy\n",
    "from surprise.model_selection import cross_validate, train_test_split,GridSearchCV\n",
    "from surprise.similarities import cosine\n",
    "from sklearn.metrics.pairwise import cosine_similarity,euclidean_distances\n",
    "from sklearn.feature_extraction.text import TfidfVectorizer\n",
    "from sklearn.neighbors import NearestNeighbors\n",
    "from sklearn.metrics import mean_squared_error\n"
   ]
  },
  {
   "cell_type": "markdown",
   "metadata": {},
   "source": [
    "## 2. DATA UNDERSTANDING"
   ]
  },
  {
   "cell_type": "markdown",
   "metadata": {},
   "source": [
    "### 2.1 Data Description and Quality"
   ]
  },
  {
   "cell_type": "markdown",
   "metadata": {},
   "source": [
    "Loading the dataset -  I will load the dataset into a pandas DataFrame which will facilitate easy manipulation and analysis."
   ]
  },
  {
   "cell_type": "code",
   "execution_count": 2,
   "metadata": {},
   "outputs": [
    {
     "name": "stdout",
     "output_type": "stream",
     "text": [
      "df_links:\n",
      "   movieId  imdbId   tmdbId\n",
      "0        1  114709    862.0\n",
      "1        2  113497   8844.0\n",
      "2        3  113228  15602.0\n",
      "df_movies:\n",
      "   movieId                    title  \\\n",
      "0        1         Toy Story (1995)   \n",
      "1        2           Jumanji (1995)   \n",
      "2        3  Grumpier Old Men (1995)   \n",
      "\n",
      "                                        genres  \n",
      "0  Adventure|Animation|Children|Comedy|Fantasy  \n",
      "1                   Adventure|Children|Fantasy  \n",
      "2                               Comedy|Romance  \n",
      "df_ratings:\n",
      "   userId  movieId  rating  timestamp\n",
      "0       1        1     4.0  964982703\n",
      "1       1        3     4.0  964981247\n",
      "2       1        6     4.0  964982224\n",
      "df_tags:\n",
      "   userId  movieId              tag   timestamp\n",
      "0       2    60756            funny  1445714994\n",
      "1       2    60756  Highly quotable  1445714996\n",
      "2       2    60756     will ferrell  1445714992\n"
     ]
    }
   ],
   "source": [
    "# Path to the zip file\n",
    "zip_file_path = 'Data/ml-latest-small.zip'\n",
    "\n",
    "# Path to the extraction folder\n",
    "extracted_files_path = 'Data'\n",
    "\n",
    "# Extract the zip file\n",
    "with zipfile.ZipFile(zip_file_path, 'r') as zip_ref:\n",
    "    zip_ref.extractall(extracted_files_path)\n",
    "\n",
    "# Paths to csv files\n",
    "file1 = 'Data/ml-latest-small/links.csv'\n",
    "file2 = 'Data/ml-latest-small/movies.csv'\n",
    "file3 = 'Data/ml-latest-small/ratings.csv'\n",
    "file4='Data/ml-latest-small/tags.csv'\n",
    "\n",
    "# Read the CSV files into dataframes\n",
    "df_links= pd.read_csv(file1)\n",
    "df_movies= pd.read_csv(file2)\n",
    "df_ratings= pd.read_csv(file3)\n",
    "df_tags= pd.read_csv(file4)\n",
    "\n",
    "# Display the first few rows of each dataframe\n",
    "print(\"df_links:\")\n",
    "print(df_links.head(3))\n",
    "\n",
    "print(\"df_movies:\")\n",
    "print(df_movies.head(3))\n",
    "\n",
    "print(\"df_ratings:\")\n",
    "print(df_ratings.head(3))\n",
    "\n",
    "print(\"df_tags:\")\n",
    "print(df_tags.head(3))\n"
   ]
  },
  {
   "cell_type": "markdown",
   "metadata": {},
   "source": [
    "- Movie ids are consistent between ratings.csv, tags.csv, movies.csv, and links.csv "
   ]
  },
  {
   "cell_type": "markdown",
   "metadata": {},
   "source": [
    "Next, I made steps to understand the dataset before moving on to the data cleaning and transformation phases. The steps include reviewing the structure and the content of the dataset"
   ]
  },
  {
   "cell_type": "code",
   "execution_count": 3,
   "metadata": {},
   "outputs": [
    {
     "name": "stdout",
     "output_type": "stream",
     "text": [
      "df_links shape: (9742, 3)\n",
      "\n",
      "df_movies shape: (9742, 3)\n",
      "\n",
      "df_ratings shape: (100836, 4)\n",
      "\n",
      "df_tags shape: (3683, 4)\n"
     ]
    }
   ],
   "source": [
    "# Print the shapes of each dataframe\n",
    "print(\"df_links shape:\", df_links.shape)\n",
    "\n",
    "print(\"\\ndf_movies shape:\", df_movies.shape)\n",
    "\n",
    "print(\"\\ndf_ratings shape:\", df_ratings.shape)\n",
    "\n",
    "print(\"\\ndf_tags shape:\", df_tags.shape)\n"
   ]
  },
  {
   "cell_type": "markdown",
   "metadata": {},
   "source": [
    "* timestamp is not relevant to our model and it can be removed"
   ]
  },
  {
   "cell_type": "code",
   "execution_count": 4,
   "metadata": {},
   "outputs": [
    {
     "name": "stdout",
     "output_type": "stream",
     "text": [
      "   userId  movieId              tag\n",
      "0       2    60756            funny\n",
      "1       2    60756  Highly quotable\n",
      "2       2    60756     will ferrell\n",
      "3       2    89774     Boxing story\n",
      "4       2    89774              MMA\n",
      "   userId  movieId  rating\n",
      "0       1        1     4.0\n",
      "1       1        3     4.0\n",
      "2       1        6     4.0\n",
      "3       1       47     5.0\n",
      "4       1       50     5.0\n"
     ]
    }
   ],
   "source": [
    "df_tags_final = df_tags.drop(['timestamp'], axis=1)\n",
    "df_ratings_final = df_ratings.drop(['timestamp'], axis=1)\n",
    "print(df_tags_final.head())\n",
    "print(df_ratings_final.head())"
   ]
  },
  {
   "cell_type": "markdown",
   "metadata": {},
   "source": [
    "### Merge datasets"
   ]
  },
  {
   "cell_type": "markdown",
   "metadata": {},
   "source": [
    "Since our model is reliant on movie ratings to provides top 5 movie recommendations to a user, i have merged df_movies to the df_rating dataset so as to include the movie title and genre to the dataset. I will also include movie tag from df_tags to the df_rating. This is meant to provide more information about the movies the model will recommend."
   ]
  },
  {
   "cell_type": "code",
   "execution_count": 5,
   "metadata": {},
   "outputs": [
    {
     "name": "stdout",
     "output_type": "stream",
     "text": [
      "   userId_x  movieId  rating                    title  \\\n",
      "0         1        1     4.0         Toy Story (1995)   \n",
      "1         1        1     4.0         Toy Story (1995)   \n",
      "2         1        1     4.0         Toy Story (1995)   \n",
      "3         1        3     4.0  Grumpier Old Men (1995)   \n",
      "4         1        3     4.0  Grumpier Old Men (1995)   \n",
      "\n",
      "                                        genres  userId_y    tag  \n",
      "0  Adventure|Animation|Children|Comedy|Fantasy       336  pixar  \n",
      "1  Adventure|Animation|Children|Comedy|Fantasy       474  pixar  \n",
      "2  Adventure|Animation|Children|Comedy|Fantasy       567    fun  \n",
      "3                               Comedy|Romance       289  moldy  \n",
      "4                               Comedy|Romance       289    old  \n"
     ]
    }
   ],
   "source": [
    "# Merge df_rating and df_movies on movieId\n",
    "df_merged = pd.merge(df_ratings_final, df_movies, on='movieId')\n",
    "\n",
    "# Merge the resulting dataframe with df_tags on movieId\n",
    "df_final = pd.merge(df_merged, df_tags_final, on='movieId')\n",
    "\n",
    "# Display the first 5 rows of the final merged dataframe\n",
    "print(df_final.head())\n"
   ]
  },
  {
   "cell_type": "markdown",
   "metadata": {},
   "source": [
    "Checked the information of the merged data"
   ]
  },
  {
   "cell_type": "code",
   "execution_count": 6,
   "metadata": {},
   "outputs": [
    {
     "name": "stdout",
     "output_type": "stream",
     "text": [
      "<class 'pandas.core.frame.DataFrame'>\n",
      "RangeIndex: 233213 entries, 0 to 233212\n",
      "Data columns (total 7 columns):\n",
      " #   Column    Non-Null Count   Dtype  \n",
      "---  ------    --------------   -----  \n",
      " 0   userId_x  233213 non-null  int64  \n",
      " 1   movieId   233213 non-null  int64  \n",
      " 2   rating    233213 non-null  float64\n",
      " 3   title     233213 non-null  object \n",
      " 4   genres    233213 non-null  object \n",
      " 5   userId_y  233213 non-null  int64  \n",
      " 6   tag       233213 non-null  object \n",
      "dtypes: float64(1), int64(3), object(3)\n",
      "memory usage: 12.5+ MB\n"
     ]
    }
   ],
   "source": [
    "# Extract information about the final dataset\n",
    "df_final.info()"
   ]
  },
  {
   "cell_type": "markdown",
   "metadata": {},
   "source": [
    "The merged dataset has 233,213 rows and 7 columns. There are columns that have been duplicated for example userId that need clean up."
   ]
  },
  {
   "cell_type": "markdown",
   "metadata": {},
   "source": [
    "I cleaned columns with same name after merging by dropping one of them."
   ]
  },
  {
   "cell_type": "code",
   "execution_count": 7,
   "metadata": {},
   "outputs": [
    {
     "data": {
      "text/html": [
       "<div>\n",
       "<style scoped>\n",
       "    .dataframe tbody tr th:only-of-type {\n",
       "        vertical-align: middle;\n",
       "    }\n",
       "\n",
       "    .dataframe tbody tr th {\n",
       "        vertical-align: top;\n",
       "    }\n",
       "\n",
       "    .dataframe thead th {\n",
       "        text-align: right;\n",
       "    }\n",
       "</style>\n",
       "<table border=\"1\" class=\"dataframe\">\n",
       "  <thead>\n",
       "    <tr style=\"text-align: right;\">\n",
       "      <th></th>\n",
       "      <th>userId_x</th>\n",
       "      <th>movieId</th>\n",
       "      <th>rating</th>\n",
       "      <th>title</th>\n",
       "      <th>genres</th>\n",
       "      <th>tag</th>\n",
       "    </tr>\n",
       "  </thead>\n",
       "  <tbody>\n",
       "    <tr>\n",
       "      <th>0</th>\n",
       "      <td>1</td>\n",
       "      <td>1</td>\n",
       "      <td>4.0</td>\n",
       "      <td>Toy Story (1995)</td>\n",
       "      <td>Adventure|Animation|Children|Comedy|Fantasy</td>\n",
       "      <td>pixar</td>\n",
       "    </tr>\n",
       "    <tr>\n",
       "      <th>1</th>\n",
       "      <td>1</td>\n",
       "      <td>1</td>\n",
       "      <td>4.0</td>\n",
       "      <td>Toy Story (1995)</td>\n",
       "      <td>Adventure|Animation|Children|Comedy|Fantasy</td>\n",
       "      <td>pixar</td>\n",
       "    </tr>\n",
       "    <tr>\n",
       "      <th>2</th>\n",
       "      <td>1</td>\n",
       "      <td>1</td>\n",
       "      <td>4.0</td>\n",
       "      <td>Toy Story (1995)</td>\n",
       "      <td>Adventure|Animation|Children|Comedy|Fantasy</td>\n",
       "      <td>fun</td>\n",
       "    </tr>\n",
       "    <tr>\n",
       "      <th>3</th>\n",
       "      <td>1</td>\n",
       "      <td>3</td>\n",
       "      <td>4.0</td>\n",
       "      <td>Grumpier Old Men (1995)</td>\n",
       "      <td>Comedy|Romance</td>\n",
       "      <td>moldy</td>\n",
       "    </tr>\n",
       "    <tr>\n",
       "      <th>4</th>\n",
       "      <td>1</td>\n",
       "      <td>3</td>\n",
       "      <td>4.0</td>\n",
       "      <td>Grumpier Old Men (1995)</td>\n",
       "      <td>Comedy|Romance</td>\n",
       "      <td>old</td>\n",
       "    </tr>\n",
       "  </tbody>\n",
       "</table>\n",
       "</div>"
      ],
      "text/plain": [
       "   userId_x  movieId  rating                    title  \\\n",
       "0         1        1     4.0         Toy Story (1995)   \n",
       "1         1        1     4.0         Toy Story (1995)   \n",
       "2         1        1     4.0         Toy Story (1995)   \n",
       "3         1        3     4.0  Grumpier Old Men (1995)   \n",
       "4         1        3     4.0  Grumpier Old Men (1995)   \n",
       "\n",
       "                                        genres    tag  \n",
       "0  Adventure|Animation|Children|Comedy|Fantasy  pixar  \n",
       "1  Adventure|Animation|Children|Comedy|Fantasy  pixar  \n",
       "2  Adventure|Animation|Children|Comedy|Fantasy    fun  \n",
       "3                               Comedy|Romance  moldy  \n",
       "4                               Comedy|Romance    old  "
      ]
     },
     "execution_count": 7,
     "metadata": {},
     "output_type": "execute_result"
    }
   ],
   "source": [
    "# Clean column names\n",
    "df_final = df_final.drop(columns=['userId_y'])\n",
    "df_final.head()"
   ]
  },
  {
   "cell_type": "markdown",
   "metadata": {},
   "source": [
    "Renamed columns with appended suffix after merging datasets"
   ]
  },
  {
   "cell_type": "code",
   "execution_count": 8,
   "metadata": {},
   "outputs": [
    {
     "data": {
      "text/html": [
       "<div>\n",
       "<style scoped>\n",
       "    .dataframe tbody tr th:only-of-type {\n",
       "        vertical-align: middle;\n",
       "    }\n",
       "\n",
       "    .dataframe tbody tr th {\n",
       "        vertical-align: top;\n",
       "    }\n",
       "\n",
       "    .dataframe thead th {\n",
       "        text-align: right;\n",
       "    }\n",
       "</style>\n",
       "<table border=\"1\" class=\"dataframe\">\n",
       "  <thead>\n",
       "    <tr style=\"text-align: right;\">\n",
       "      <th></th>\n",
       "      <th>userId</th>\n",
       "      <th>movieId</th>\n",
       "      <th>rating</th>\n",
       "      <th>title</th>\n",
       "      <th>genres</th>\n",
       "      <th>tag</th>\n",
       "    </tr>\n",
       "  </thead>\n",
       "  <tbody>\n",
       "    <tr>\n",
       "      <th>0</th>\n",
       "      <td>1</td>\n",
       "      <td>1</td>\n",
       "      <td>4.0</td>\n",
       "      <td>Toy Story (1995)</td>\n",
       "      <td>Adventure|Animation|Children|Comedy|Fantasy</td>\n",
       "      <td>pixar</td>\n",
       "    </tr>\n",
       "    <tr>\n",
       "      <th>1</th>\n",
       "      <td>1</td>\n",
       "      <td>1</td>\n",
       "      <td>4.0</td>\n",
       "      <td>Toy Story (1995)</td>\n",
       "      <td>Adventure|Animation|Children|Comedy|Fantasy</td>\n",
       "      <td>pixar</td>\n",
       "    </tr>\n",
       "    <tr>\n",
       "      <th>2</th>\n",
       "      <td>1</td>\n",
       "      <td>1</td>\n",
       "      <td>4.0</td>\n",
       "      <td>Toy Story (1995)</td>\n",
       "      <td>Adventure|Animation|Children|Comedy|Fantasy</td>\n",
       "      <td>fun</td>\n",
       "    </tr>\n",
       "    <tr>\n",
       "      <th>3</th>\n",
       "      <td>1</td>\n",
       "      <td>3</td>\n",
       "      <td>4.0</td>\n",
       "      <td>Grumpier Old Men (1995)</td>\n",
       "      <td>Comedy|Romance</td>\n",
       "      <td>moldy</td>\n",
       "    </tr>\n",
       "    <tr>\n",
       "      <th>4</th>\n",
       "      <td>1</td>\n",
       "      <td>3</td>\n",
       "      <td>4.0</td>\n",
       "      <td>Grumpier Old Men (1995)</td>\n",
       "      <td>Comedy|Romance</td>\n",
       "      <td>old</td>\n",
       "    </tr>\n",
       "  </tbody>\n",
       "</table>\n",
       "</div>"
      ],
      "text/plain": [
       "   userId  movieId  rating                    title  \\\n",
       "0       1        1     4.0         Toy Story (1995)   \n",
       "1       1        1     4.0         Toy Story (1995)   \n",
       "2       1        1     4.0         Toy Story (1995)   \n",
       "3       1        3     4.0  Grumpier Old Men (1995)   \n",
       "4       1        3     4.0  Grumpier Old Men (1995)   \n",
       "\n",
       "                                        genres    tag  \n",
       "0  Adventure|Animation|Children|Comedy|Fantasy  pixar  \n",
       "1  Adventure|Animation|Children|Comedy|Fantasy  pixar  \n",
       "2  Adventure|Animation|Children|Comedy|Fantasy    fun  \n",
       "3                               Comedy|Romance  moldy  \n",
       "4                               Comedy|Romance    old  "
      ]
     },
     "execution_count": 8,
     "metadata": {},
     "output_type": "execute_result"
    }
   ],
   "source": [
    "# renamed columns\n",
    "df_final.rename(columns={'userId_x': 'userId'}, inplace=True)\n",
    "df_final.head()\n"
   ]
  },
  {
   "cell_type": "markdown",
   "metadata": {},
   "source": [
    "Checked the shape of the dataset"
   ]
  },
  {
   "cell_type": "code",
   "execution_count": 9,
   "metadata": {},
   "outputs": [
    {
     "data": {
      "text/plain": [
       "(233213, 6)"
      ]
     },
     "execution_count": 9,
     "metadata": {},
     "output_type": "execute_result"
    }
   ],
   "source": [
    "# Examine the shape of the dataset\n",
    "df_final.shape"
   ]
  },
  {
   "cell_type": "markdown",
   "metadata": {},
   "source": [
    "I used isna() to check for null values"
   ]
  },
  {
   "cell_type": "code",
   "execution_count": 10,
   "metadata": {},
   "outputs": [
    {
     "data": {
      "text/plain": [
       "userId     0\n",
       "movieId    0\n",
       "rating     0\n",
       "title      0\n",
       "genres     0\n",
       "tag        0\n",
       "dtype: int64"
      ]
     },
     "execution_count": 10,
     "metadata": {},
     "output_type": "execute_result"
    }
   ],
   "source": [
    "# Check for null values\n",
    "df_final.isna().sum()"
   ]
  },
  {
   "cell_type": "markdown",
   "metadata": {},
   "source": [
    "I checked for duplicate rows to enable me clean the dataset"
   ]
  },
  {
   "cell_type": "code",
   "execution_count": 11,
   "metadata": {},
   "outputs": [
    {
     "name": "stdout",
     "output_type": "stream",
     "text": [
      "Duplicate Rows:\n",
      "<class 'pandas.core.frame.DataFrame'>\n",
      "Index: 13807 entries, 1 to 233175\n",
      "Data columns (total 6 columns):\n",
      " #   Column   Non-Null Count  Dtype  \n",
      "---  ------   --------------  -----  \n",
      " 0   userId   13807 non-null  int64  \n",
      " 1   movieId  13807 non-null  int64  \n",
      " 2   rating   13807 non-null  float64\n",
      " 3   title    13807 non-null  object \n",
      " 4   genres   13807 non-null  object \n",
      " 5   tag      13807 non-null  object \n",
      "dtypes: float64(1), int64(2), object(3)\n",
      "memory usage: 755.1+ KB\n"
     ]
    }
   ],
   "source": [
    "# Check for duplicate rows\n",
    "duplicates = df_final[df_final.duplicated()]\n",
    "print(\"Duplicate Rows:\")\n",
    "duplicates.info()\n"
   ]
  },
  {
   "cell_type": "markdown",
   "metadata": {},
   "source": [
    "The merged dataset has 13807 duplicate rows that need clean up"
   ]
  },
  {
   "cell_type": "code",
   "execution_count": 12,
   "metadata": {},
   "outputs": [
    {
     "name": "stdout",
     "output_type": "stream",
     "text": [
      "<class 'pandas.core.frame.DataFrame'>\n",
      "Index: 219406 entries, 0 to 233212\n",
      "Data columns (total 6 columns):\n",
      " #   Column   Non-Null Count   Dtype  \n",
      "---  ------   --------------   -----  \n",
      " 0   userId   219406 non-null  int64  \n",
      " 1   movieId  219406 non-null  int64  \n",
      " 2   rating   219406 non-null  float64\n",
      " 3   title    219406 non-null  object \n",
      " 4   genres   219406 non-null  object \n",
      " 5   tag      219406 non-null  object \n",
      "dtypes: float64(1), int64(2), object(3)\n",
      "memory usage: 11.7+ MB\n"
     ]
    }
   ],
   "source": [
    "# Remove duplicate rows\n",
    "df_final_clean = df_final.drop_duplicates()\n",
    "df_final_clean.info()"
   ]
  },
  {
   "cell_type": "markdown",
   "metadata": {},
   "source": [
    "The dataset has 219,406 entries and 6 columns. The columns include userId and movieId with integer data type, rating in form of a float, and title, genres, and tag with object data type."
   ]
  },
  {
   "cell_type": "markdown",
   "metadata": {},
   "source": [
    "Generating summary statistics will help get insights on the dataset distribution"
   ]
  },
  {
   "cell_type": "code",
   "execution_count": 13,
   "metadata": {},
   "outputs": [
    {
     "data": {
      "text/html": [
       "<div>\n",
       "<style scoped>\n",
       "    .dataframe tbody tr th:only-of-type {\n",
       "        vertical-align: middle;\n",
       "    }\n",
       "\n",
       "    .dataframe tbody tr th {\n",
       "        vertical-align: top;\n",
       "    }\n",
       "\n",
       "    .dataframe thead th {\n",
       "        text-align: right;\n",
       "    }\n",
       "</style>\n",
       "<table border=\"1\" class=\"dataframe\">\n",
       "  <thead>\n",
       "    <tr style=\"text-align: right;\">\n",
       "      <th></th>\n",
       "      <th>userId</th>\n",
       "      <th>movieId</th>\n",
       "      <th>rating</th>\n",
       "    </tr>\n",
       "  </thead>\n",
       "  <tbody>\n",
       "    <tr>\n",
       "      <th>count</th>\n",
       "      <td>219406.000000</td>\n",
       "      <td>219406.000000</td>\n",
       "      <td>219406.000000</td>\n",
       "    </tr>\n",
       "    <tr>\n",
       "      <th>mean</th>\n",
       "      <td>309.827945</td>\n",
       "      <td>12442.645949</td>\n",
       "      <td>3.959869</td>\n",
       "    </tr>\n",
       "    <tr>\n",
       "      <th>std</th>\n",
       "      <td>178.333073</td>\n",
       "      <td>28443.938687</td>\n",
       "      <td>0.971216</td>\n",
       "    </tr>\n",
       "    <tr>\n",
       "      <th>min</th>\n",
       "      <td>1.000000</td>\n",
       "      <td>1.000000</td>\n",
       "      <td>0.500000</td>\n",
       "    </tr>\n",
       "    <tr>\n",
       "      <th>25%</th>\n",
       "      <td>157.000000</td>\n",
       "      <td>296.000000</td>\n",
       "      <td>3.500000</td>\n",
       "    </tr>\n",
       "    <tr>\n",
       "      <th>50%</th>\n",
       "      <td>309.000000</td>\n",
       "      <td>1198.000000</td>\n",
       "      <td>4.000000</td>\n",
       "    </tr>\n",
       "    <tr>\n",
       "      <th>75%</th>\n",
       "      <td>460.000000</td>\n",
       "      <td>4639.000000</td>\n",
       "      <td>5.000000</td>\n",
       "    </tr>\n",
       "    <tr>\n",
       "      <th>max</th>\n",
       "      <td>610.000000</td>\n",
       "      <td>193565.000000</td>\n",
       "      <td>5.000000</td>\n",
       "    </tr>\n",
       "  </tbody>\n",
       "</table>\n",
       "</div>"
      ],
      "text/plain": [
       "              userId        movieId         rating\n",
       "count  219406.000000  219406.000000  219406.000000\n",
       "mean      309.827945   12442.645949       3.959869\n",
       "std       178.333073   28443.938687       0.971216\n",
       "min         1.000000       1.000000       0.500000\n",
       "25%       157.000000     296.000000       3.500000\n",
       "50%       309.000000    1198.000000       4.000000\n",
       "75%       460.000000    4639.000000       5.000000\n",
       "max       610.000000  193565.000000       5.000000"
      ]
     },
     "execution_count": 13,
     "metadata": {},
     "output_type": "execute_result"
    }
   ],
   "source": [
    "# Get summary statistics \n",
    "df_final_clean.describe()"
   ]
  },
  {
   "cell_type": "markdown",
   "metadata": {},
   "source": [
    "* The average rating of the movies is 3.96 with a standard deviation of 0.97.\n",
    "\n",
    "* The dataset has 610 UserIds, representing a unique identifier.\n",
    "\n",
    "* All movies also have movieId.\n"
   ]
  },
  {
   "cell_type": "markdown",
   "metadata": {},
   "source": [
    "### 2.2 Exploratory Data Analysis (EDA)"
   ]
  },
  {
   "cell_type": "markdown",
   "metadata": {},
   "source": [
    "#### Tag Analysis : Most Frequently Used Movie Tag"
   ]
  },
  {
   "cell_type": "code",
   "execution_count": 14,
   "metadata": {},
   "outputs": [
    {
     "data": {
      "image/png": "[encoded data removed]",
      "text/plain": [
       "<Figure size 1000x600 with 1 Axes>"
      ]
     },
     "metadata": {},
     "output_type": "display_data"
    }
   ],
   "source": [
    "# Get the top 10 most popular tags\n",
    "Top_10_most_popular_tags = df_final_clean['tag'].value_counts().head(10)\n",
    "\n",
    "# Define colormap\n",
    "colors = sns.color_palette(\"muted\", len(Top_10_most_popular_tags))\n",
    "\n",
    "# Plot with different colors for each bar\n",
    "plt.figure(figsize=(10, 6))\n",
    "Top_10_most_popular_tags.plot(kind='bar', color=colors)\n",
    "plt.xlabel('Tag')\n",
    "plt.ylabel('Number of Movies')\n",
    "plt.title('Top 10 Most Popular Tags')\n",
    "plt.show()\n"
   ]
  },
  {
   "cell_type": "markdown",
   "metadata": {},
   "source": [
    "* Sci-fi, atmospheric and twist ending are most popular movie tags."
   ]
  },
  {
   "cell_type": "markdown",
   "metadata": {},
   "source": [
    "#### Genre analysis : Top 10 Most Popular Movie Genres"
   ]
  },
  {
   "cell_type": "code",
   "execution_count": 15,
   "metadata": {},
   "outputs": [
    {
     "data": {
      "image/png": "[encoded data removed]",
      "text/plain": [
       "<Figure size 1000x600 with 1 Axes>"
      ]
     },
     "metadata": {},
     "output_type": "display_data"
    }
   ],
   "source": [
    "# Splitting genres\n",
    "df_final_clean.loc[:, 'genres'] = df_final_clean['genres'].str.split('|')\n",
    "most_popular_genres = df_final_clean.explode('genres')['genres'].value_counts().head(10)\n",
    "\n",
    "# Define colormap\n",
    "colors = sns.color_palette(\"muted\", len(most_popular_genres))\n",
    "\n",
    "# Plotting the most popular genres\n",
    "plt.figure(figsize=(10, 6))\n",
    "most_popular_genres.plot(kind='bar', color=colors)\n",
    "plt.xlabel('Genre')\n",
    "plt.ylabel('Number of Movies')\n",
    "plt.title('Top 10 Most Popular Genres')\n",
    "plt.show()\n"
   ]
  },
  {
   "cell_type": "markdown",
   "metadata": {},
   "source": [
    "* Drama is the most popular genre of movies followed by Triller. Crime genre of movies is the third most popular genre among the movies."
   ]
  },
  {
   "cell_type": "markdown",
   "metadata": {},
   "source": [
    "### Ascertain top 10 movies by number of 5-star ratings"
   ]
  },
  {
   "cell_type": "code",
   "execution_count": 16,
   "metadata": {},
   "outputs": [
    {
     "data": {
      "image/png": "[encoded data removed]",
      "text/plain": [
       "<Figure size 1200x600 with 1 Axes>"
      ]
     },
     "metadata": {},
     "output_type": "display_data"
    }
   ],
   "source": [
    "# Filter ratings for score of 5\n",
    "high_ratings = df_final_clean[df_final_clean['rating'] == 5.0]\n",
    "\n",
    "# Count the number of 5-star ratings per movie\n",
    "top_movies = high_ratings.groupby('movieId').size().reset_index(name='count')\n",
    "\n",
    "# Merge with movie titles\n",
    "top_movies = top_movies.merge(df_final_clean[['movieId', 'title']].drop_duplicates(), on='movieId')\n",
    "\n",
    "# Get the top 10 movies\n",
    "top_10_movies = top_movies.sort_values(by='count', ascending=False).head(10)\n",
    "\n",
    "# Define colormap\n",
    "colors = sns.color_palette(\"muted\", len(top_10_movies))\n",
    "\n",
    "# Plot the data\n",
    "plt.figure(figsize=(12, 6))\n",
    "plt.barh(top_10_movies['title'], top_10_movies['count'], color=colors)\n",
    "plt.xlabel('Number of 5-Star Ratings')\n",
    "plt.title('Top 10 Movies by Number of 5-Star Ratings')\n",
    "plt.gca().invert_yaxis()\n",
    "plt.show()\n"
   ]
  },
  {
   "cell_type": "markdown",
   "metadata": {},
   "source": [
    "* Movie titled 'Pulp Fiction (1994)' is the most rated among the top 10 movies with 5-star ratings. The bar chart also shows that the year of production of the movie may not influence the number of 5-star ratings it gets."
   ]
  },
  {
   "cell_type": "markdown",
   "metadata": {},
   "source": [
    "#### Distribution of Movie Ratings"
   ]
  },
  {
   "cell_type": "code",
   "execution_count": 17,
   "metadata": {},
   "outputs": [
    {
     "data": {
      "image/png": "[encoded data removed]",
      "text/plain": [
       "<Figure size 1000x600 with 1 Axes>"
      ]
     },
     "metadata": {},
     "output_type": "display_data"
    }
   ],
   "source": [
    "# Distribution of movie ratings\n",
    "plt.figure(figsize=(10, 6))\n",
    "df_final_clean['rating'].hist(bins=10, edgecolor='black')\n",
    "plt.xlabel('Rating')\n",
    "plt.ylabel('Number of Ratings')\n",
    "plt.title('Distribution of Movie Ratings')\n",
    "plt.show()\n",
    "\n",
    "# Most and least frequently rated movies\n",
    "rating_counts = df_final_clean.groupby('movieId').size().reset_index(name='count')\n",
    "most_rated = rating_counts.sort_values(by='count', ascending=False).head(10)\n",
    "least_rated = rating_counts.sort_values(by='count', ascending=True).head(10)"
   ]
  },
  {
   "cell_type": "markdown",
   "metadata": {},
   "source": [
    "* The distribution of the movie ratings for the movies is highly skewed to the right, indicating more popularity of most movies among viewers, which could point to popularity bias in movie recommendations."
   ]
  },
  {
   "cell_type": "markdown",
   "metadata": {},
   "source": [
    "#### Distribution of Average Ratings per User"
   ]
  },
  {
   "cell_type": "code",
   "execution_count": 18,
   "metadata": {},
   "outputs": [
    {
     "data": {
      "image/png": "[encoded data removed]",
      "text/plain": [
       "<Figure size 1000x600 with 1 Axes>"
      ]
     },
     "metadata": {},
     "output_type": "display_data"
    }
   ],
   "source": [
    "# Get average of rating per userID\n",
    "avg_user_ratings = df_final_clean.groupby('userId')['rating'].mean()\n",
    "\n",
    "# Plot average of rating per userID\n",
    "plt.figure(figsize=(10, 6))\n",
    "avg_user_ratings.hist(bins=50, edgecolor='black')\n",
    "plt.xlabel('Average Rating')\n",
    "plt.ylabel('Number of Users')\n",
    "plt.title('Distribution of Average Ratings per User')\n",
    "plt.show()\n"
   ]
  },
  {
   "cell_type": "markdown",
   "metadata": {},
   "source": [
    "* The average rating for most users appears to be around 4. The histogram also indicates that the distribution of average user ratings is more towards higher values, suggesting that more users are giving favourable ratings to movies."
   ]
  },
  {
   "cell_type": "code",
   "execution_count": 19,
   "metadata": {},
   "outputs": [
    {
     "data": {
      "text/plain": [
       "Text(0.5, 1.0, 'Scatter plot of Ratings per User')"
      ]
     },
     "execution_count": 19,
     "metadata": {},
     "output_type": "execute_result"
    },
    {
     "data": {
      "image/png": "[encoded data removed]",
      "text/plain": [
       "<Figure size 640x480 with 1 Axes>"
      ]
     },
     "metadata": {},
     "output_type": "display_data"
    }
   ],
   "source": [
    "# Group by userId and rating\n",
    "numberOf_movies_voted_by_user = pd.DataFrame(df_final_clean.groupby('userId')['rating'].agg('count'))     \n",
    "numberOf_movies_voted_by_user.reset_index(level = 0,inplace = True)\n",
    "\n",
    "# Scatter plot\n",
    "plt.figure()\n",
    "ax = sns.scatterplot(y = 'rating', x = 'userId', data = numberOf_movies_voted_by_user)\n",
    "plt.axhline(y=60,color='r')\n",
    "plt.ylabel('Number Of Movies rated by user')\n",
    "plt.title('Scatter plot of Ratings per User')"
   ]
  },
  {
   "cell_type": "markdown",
   "metadata": {},
   "source": [
    "* The density of the points towards the lower part of the y-axis of the scatter plot suggests a larger proportion of the users have rated relatively fewer number of movies. This also shows that there could be a cold start problem that needs to be dealt with."
   ]
  },
  {
   "cell_type": "markdown",
   "metadata": {},
   "source": [
    "## 3. DATA PREPARATION"
   ]
  },
  {
   "cell_type": "markdown",
   "metadata": {},
   "source": [
    "Surprise is a Python scikit for recommender systems. Surpirse library will need a rating scale from the dataset."
   ]
  },
  {
   "cell_type": "code",
   "execution_count": 20,
   "metadata": {},
   "outputs": [
    {
     "name": "stdout",
     "output_type": "stream",
     "text": [
      "The minimum rating is: 0.5\n",
      "The maximum rating is: 5.0\n"
     ]
    }
   ],
   "source": [
    "# Establishing the minimum rating\n",
    "min_rating = df_final_clean['rating'].min()\n",
    "print(f\"The minimum rating is: {min_rating}\")\n",
    "\n",
    "# Establishing the maximum rating\n",
    "max_rating = df_final_clean['rating'].max()\n",
    "print(f\"The maximum rating is: {max_rating}\")\n"
   ]
  },
  {
   "cell_type": "markdown",
   "metadata": {},
   "source": [
    "- Ratings are made on a 5-star scale (0.5 stars - 5.0 stars)."
   ]
  },
  {
   "cell_type": "markdown",
   "metadata": {},
   "source": [
    "I prepared data in a format compatible with surprise by use of a reader"
   ]
  },
  {
   "cell_type": "code",
   "execution_count": 21,
   "metadata": {},
   "outputs": [],
   "source": [
    "# Define the rating scale (e.g., 0.5 to 5.0)\n",
    "reader = Reader(rating_scale=(0.5, 5.0))\n",
    "\n",
    "# Convert the DataFrame to a Surprise dataset\n",
    "data = Dataset.load_from_df(df_final_clean[[\"userId\", \"movieId\", \"rating\"]], reader)"
   ]
  },
  {
   "cell_type": "markdown",
   "metadata": {},
   "source": [
    "Split the dataset to training and testing sets"
   ]
  },
  {
   "cell_type": "code",
   "execution_count": 22,
   "metadata": {},
   "outputs": [],
   "source": [
    "# Split the dataset\n",
    "trainset, testset = train_test_split(data, test_size=0.2, random_state=42)"
   ]
  },
  {
   "cell_type": "markdown",
   "metadata": {},
   "source": [
    "## 4. MODELLING & EVALUATION"
   ]
  },
  {
   "cell_type": "markdown",
   "metadata": {},
   "source": [
    "### Determining the best model \n",
    "\n",
    "I will use different models and see which ones perform best. For consistency, I will use RMSE to evaluate models. \n",
    "\n",
    "When evaluating models with Root Mean Squared Error (RMSE), a lower value is preferable. RMSE quantifies the average error magnitude between predicted and actual values, emphasizing larger Therefore, a lower RMSE signifies that the model's predictions are more accurate, indicating superior model performance.\n",
    "\n"
   ]
  },
  {
   "cell_type": "markdown",
   "metadata": {},
   "source": [
    "### i. Collaborative Filtering with Singular Value Decomposition (SVD)"
   ]
  },
  {
   "cell_type": "markdown",
   "metadata": {},
   "source": [
    "Collaborative filtering is a recommendation technique that analyzes a user’s behavior and compares it to the behavior of other users in the database. It leverages the collective history of all users to shape and enhance the recommendation algorithm. Collaborative filtering uses a matrix to map user behavior for each item in its system. \n",
    "\n",
    "Singular-Value Decomposition or SVD is a common and widely used matrix decomposition method. All matrices are able to be factored using an SVD, which makes it more stable than other methods, such as the eigendecomposition."
   ]
  },
  {
   "cell_type": "markdown",
   "metadata": {},
   "source": [
    "### a. SVD model"
   ]
  },
  {
   "cell_type": "code",
   "execution_count": 23,
   "metadata": {},
   "outputs": [
    {
     "data": {
      "text/plain": [
       "<surprise.prediction_algorithms.matrix_factorization.SVD at 0x231aecabe90>"
      ]
     },
     "execution_count": 23,
     "metadata": {},
     "output_type": "execute_result"
    }
   ],
   "source": [
    "#Instantiate SVD model\n",
    "svd=SVD()\n",
    "\n",
    "# Train the model\n",
    "svd.fit(trainset)"
   ]
  },
  {
   "cell_type": "code",
   "execution_count": 24,
   "metadata": {},
   "outputs": [
    {
     "name": "stdout",
     "output_type": "stream",
     "text": [
      "RMSE: 0.3968\n",
      "0.39684941129864815\n"
     ]
    }
   ],
   "source": [
    "# Get prediction using the test dataset\n",
    "predictions = svd.test(testset)\n",
    "print(accuracy.rmse(predictions))"
   ]
  },
  {
   "cell_type": "markdown",
   "metadata": {},
   "source": [
    "### b. Tuned SVD"
   ]
  },
  {
   "cell_type": "markdown",
   "metadata": {},
   "source": [
    "I will tune the SVD model with the best parameters to optimise the model"
   ]
  },
  {
   "cell_type": "code",
   "execution_count": 25,
   "metadata": {},
   "outputs": [],
   "source": [
    "# Defining the parameter grid\n",
    "param_grid = {\n",
    "    'n_factors': [700,800],\n",
    "    'n_epochs': [40,60],\n",
    "    'lr_all': [0.12, 0.16],\n",
    "    'reg_all': [0.00001, 0.0001]\n",
    "}"
   ]
  },
  {
   "cell_type": "code",
   "execution_count": 26,
   "metadata": {},
   "outputs": [],
   "source": [
    "# Gridsearch with SVD\n",
    "GridSearch = GridSearchCV(SVD, param_grid=param_grid, cv=2, n_jobs=-1, joblib_verbose=0)\n",
    "GridSearch.fit(data)\n"
   ]
  },
  {
   "cell_type": "code",
   "execution_count": 27,
   "metadata": {},
   "outputs": [
    {
     "name": "stdout",
     "output_type": "stream",
     "text": [
      "Best parameters: {'n_factors': 700, 'n_epochs': 40, 'lr_all': 0.12, 'reg_all': 1e-05}\n"
     ]
    }
   ],
   "source": [
    "# Print the best parameters\n",
    "print(\"Best parameters:\", GridSearch.best_params['rmse'])"
   ]
  },
  {
   "cell_type": "code",
   "execution_count": 28,
   "metadata": {},
   "outputs": [
    {
     "name": "stdout",
     "output_type": "stream",
     "text": [
      "RMSE: 0.2945\n",
      "The Root Mean Squared Error (RMSE) for the SVD model is: 0.2945\n"
     ]
    }
   ],
   "source": [
    "# Initialize the SVD algorithm with the best parameters\n",
    "svd_tuned = GridSearch.best_estimator['rmse']\n",
    "\n",
    "# Fit the model to the training set\n",
    "svd_tuned.fit(trainset)\n",
    "\n",
    "# Make predictions on the test set\n",
    "predictions = svd_tuned.test(testset)\n",
    "svd_rmse = accuracy.rmse(predictions)\n",
    "print(f\"The Root Mean Squared Error (RMSE) for the SVD model is: {svd_rmse:.4f}\")\n",
    "\n",
    "# Usage of Collaborative Filtering (SVD)\n",
    "def get_svd_recommendations(user_id, svd_tuned, df_final_clean, n_recommendations=5):\n",
    "    all_movie_ids = df_final_clean['movieId'].unique()\n",
    "    user_rated_movie_ids = df_final_clean[df_final_clean['userId'] == user_id]['movieId'].unique()\n",
    "    movie_ids_to_predict = [movie_id for movie_id in all_movie_ids if movie_id not in user_rated_movie_ids]\n",
    "    predictions = [svd_tuned.predict(user_id, movie_id) for movie_id in movie_ids_to_predict]\n",
    "    top_5_predictions = sorted(predictions, key=lambda x: x.est, reverse=True)[:n_recommendations]\n",
    "    top_5_movie_info = [(pred.iid, pred.est) for pred in top_5_predictions]\n",
    "    top_5_movie_titles_ratings = [(df_final_clean[df_final_clean['movieId'] == movie_id]['title'].values[0], rating) for movie_id, rating in top_5_movie_info]\n",
    "    \n",
    "    return top_5_movie_titles_ratings"
   ]
  },
  {
   "cell_type": "markdown",
   "metadata": {},
   "source": [
    "The RMSE for the tuned SVD model is much lower than the initial model, signifying the tuned model to be having more accuracy in prediction that the later, hence a superior model."
   ]
  },
  {
   "cell_type": "markdown",
   "metadata": {},
   "source": [
    "### ii. Content-Based Filtering Model"
   ]
  },
  {
   "cell_type": "markdown",
   "metadata": {},
   "source": [
    "Content-based filtering is a technique for making recommendations by suggesting items that are similar to those a user has previously enjoyed. Content-Based Filtering model computes similarity, often using cosine similarity, between the user’s preferences and item attributes.\n",
    "\n",
    "Neighbor-based systems, are extensions of k-nearest neighbors classifiers because they attempt to predict a target user’s behavior toward a given item based on similar users or set of items."
   ]
  },
  {
   "cell_type": "code",
   "execution_count": 29,
   "metadata": {},
   "outputs": [],
   "source": [
    "# Make an explicit copy of the DataFrame to avoid SettingWithCopyWarning\n",
    "df_final_clean_copy = df_final_clean.copy()\n",
    "\n",
    "# Convert relevant columns to strings using .loc\n",
    "df_final_clean_copy.loc[:, 'title'] = df_final_clean_copy['title'].astype(str)\n",
    "df_final_clean_copy.loc[:, 'genres'] = df_final_clean_copy['genres'].astype(str)\n",
    "df_final_clean_copy.loc[:, 'tag'] = df_final_clean_copy['tag'].astype(str)\n",
    "\n",
    "# Combine relevant features into a single string using .loc\n",
    "df_final_clean_copy.loc[:, 'combined_features'] = df_final_clean_copy['title'] + ' ' + df_final_clean_copy['genres'] + ' ' + df_final_clean_copy['tag']\n",
    "\n",
    "# Vectorize the text data using TF-IDF\n",
    "tfidf = TfidfVectorizer(stop_words='english')\n",
    "tfidf_matrix = tfidf.fit_transform(df_final_clean_copy['combined_features'])\n",
    "\n",
    "# Use Nearest Neighbors to find similar movies\n",
    "nn = NearestNeighbors(metric='cosine', algorithm='brute')\n",
    "nn.fit(tfidf_matrix)\n",
    "\n",
    "# Function to get top 5 movie recommendations based on content\n",
    "def get_recommendations_cbf(movie_ids, n_recommendations=5):\n",
    "    recommended_movies = []\n",
    "    predicted_ratings = []\n",
    "    actual_ratings = []\n",
    "\n",
    "    for movie_id in movie_ids:\n",
    "        idx = df_final_clean_copy[df_final_clean_copy['movieId'] == movie_id].index[0]\n",
    "        distances, indices = nn.kneighbors(tfidf_matrix[idx], n_neighbors=n_recommendations+1)\n",
    "        indices = indices.flatten()[1:]\n",
    "\n",
    "        for i in indices:\n",
    "            title = df_final_clean_copy['title'].iloc[i]\n",
    "            highest_rating = df_final_clean_copy[df_final_clean_copy['title'] == title]['rating'].max()\n",
    "            predicted_ratings.append(highest_rating) # Predicted ratings\n",
    "            actual_ratings.append(df_final_clean_copy[df_final_clean_copy['title'] == title]['rating'].values[0]) # Actual ratings\n",
    "            recommended_movies.append((title, highest_rating))\n",
    "\n",
    "    # Calculate RMSE\n",
    "    rmse = np.sqrt(mean_squared_error(actual_ratings, predicted_ratings))\n",
    "\n",
    "    recommended_movies = list(dict.fromkeys(recommended_movies))\n",
    "    recommended_movies.sort(key=lambda x: x[1], reverse=True)\n",
    "    \n",
    "    return recommended_movies[:n_recommendations], rmse\n"
   ]
  },
  {
   "cell_type": "markdown",
   "metadata": {},
   "source": [
    "### iii. Hybrid Approach"
   ]
  },
  {
   "cell_type": "markdown",
   "metadata": {},
   "source": [
    "I have combined collaborative filtering and content-based filtering models to achieve a hybrid model."
   ]
  },
  {
   "cell_type": "code",
   "execution_count": 30,
   "metadata": {},
   "outputs": [],
   "source": [
    "def get_hybrid_recommendations(user_id, n_recommendations=5):\n",
    "    # Get the highly rated movies by userID 1 for content-based filtering\n",
    "    user_ratings = df_final_clean[df_final_clean['userId'] == user_id]\n",
    "    high_rated_movies = user_ratings[user_ratings['rating'] >= 4]['movieId'].tolist()\n",
    "    \n",
    "    cbf_recommendations, cbf_rmse = get_recommendations_cbf(high_rated_movies, n_recommendations=n_recommendations)\n",
    "    cf_recommendations = get_svd_recommendations(user_id, svd_tuned, df_final_clean, n_recommendations=n_recommendations)\n",
    "    \n",
    "    # Combine the recommendations\n",
    "    combined_recommendations = list(set(cbf_recommendations + cf_recommendations))\n",
    "    combined_recommendations.sort(key=lambda x: x[1], reverse=True)\n",
    "    \n",
    "    # Calculate RMSE for hybrid recommendations\n",
    "    hybrid_actual_ratings = [df_final_clean[df_final_clean['title'] == title]['rating'].values[0] for title, _ in combined_recommendations]\n",
    "    hybrid_predicted_ratings = [rating for _, rating in combined_recommendations]\n",
    "    hybrid_rmse = np.sqrt(mean_squared_error(hybrid_actual_ratings, hybrid_predicted_ratings))\n",
    "    \n",
    "    return combined_recommendations[:n_recommendations], hybrid_rmse\n"
   ]
  },
  {
   "cell_type": "markdown",
   "metadata": {},
   "source": [
    "## 5. Making recommendations"
   ]
  },
  {
   "cell_type": "markdown",
   "metadata": {},
   "source": [
    "Based on the three models, I will try and obtain top 5 movie recommendations to a user, based on their ratings of other movies."
   ]
  },
  {
   "cell_type": "markdown",
   "metadata": {},
   "source": [
    "#### i. Collaborative Filtering (SVD) Recommendations"
   ]
  },
  {
   "cell_type": "code",
   "execution_count": 31,
   "metadata": {},
   "outputs": [
    {
     "name": "stdout",
     "output_type": "stream",
     "text": [
      "Top 5 Recommendations movies as per Collaborative Filtering (SVD) model for UserID 1:\n",
      "\n",
      "1. Shawshank Redemption, The (1994) - Rating: 5.00\n",
      "2. North by Northwest (1959) - Rating: 5.00\n",
      "3. Bridge on the River Kwai, The (1957) - Rating: 5.00\n",
      "4. Waiting for Guffman (1996) - Rating: 5.00\n",
      "5. West Side Story (1961) - Rating: 5.00\n",
      "\n",
      "The Root Mean Squared Error (RMSE) for the SVD model is: 0.29445355785716876\n"
     ]
    }
   ],
   "source": [
    "# Recommendation\n",
    "top_5_recommendations = get_svd_recommendations(user_id=1, svd_tuned=svd_tuned, df_final_clean=df_final_clean)\n",
    "print(\"Top 5 Recommendations movies as per Collaborative Filtering (SVD) model for UserID 1:\\n\")\n",
    "for i, (title, rating) in enumerate(top_5_recommendations, 1):\n",
    "    print(f\"{i}. {title} - Rating: {rating:.2f}\")\n",
    "\n",
    "print(\"\\nThe Root Mean Squared Error (RMSE) for the SVD model is:\", svd_rmse)"
   ]
  },
  {
   "cell_type": "markdown",
   "metadata": {},
   "source": [
    "#### ii. Content-Based Filtering Recommendations"
   ]
  },
  {
   "cell_type": "code",
   "execution_count": 32,
   "metadata": {},
   "outputs": [
    {
     "name": "stdout",
     "output_type": "stream",
     "text": [
      "Top 5 movies as per Content-Based Filtering Model Recommendations for UserId 1:\n",
      "\n",
      "1. Toy Story (1995) (Rating: 5.0)\n",
      "2. Grumpier Old Men (1995) (Rating: 5.0)\n",
      "3. Seven (a.k.a. Se7en) (1995) (Rating: 5.0)\n",
      "4. Usual Suspects, The (1995) (Rating: 5.0)\n",
      "5. Bottle Rocket (1996) (Rating: 5.0)\n",
      "\n",
      "Content-Based Filtering RMSE: 0.7180703308172536\n"
     ]
    }
   ],
   "source": [
    "# Get the highly rated movies by userID 1\n",
    "user_ratings = df_final_clean[df_final_clean['userId'] == 1]\n",
    "high_rated_movies = user_ratings[user_ratings['rating'] >= 4]['movieId'].tolist()\n",
    "\n",
    "# Get recommendations\n",
    "cbf_recommendations, cbf_rmse = get_recommendations_cbf(high_rated_movies)\n",
    "\n",
    "# Format the recommendations\n",
    "formatted_recommendations = \"\\n\".join([f\"{i+1}. {movie} (Rating: {rating})\" for i, (movie, rating) in enumerate(cbf_recommendations)])\n",
    "\n",
    "print(\"Top 5 movies as per Content-Based Filtering Model Recommendations for UserId 1:\\n\")\n",
    "print(formatted_recommendations)\n",
    "print(\"\\nContent-Based Filtering RMSE:\", cbf_rmse)\n"
   ]
  },
  {
   "cell_type": "markdown",
   "metadata": {},
   "source": [
    "#### iii. Hybrid Approach Recommendations"
   ]
  },
  {
   "cell_type": "code",
   "execution_count": 33,
   "metadata": {},
   "outputs": [
    {
     "name": "stdout",
     "output_type": "stream",
     "text": [
      "Hybrid Approach Movie Recommendations for UserId 1:\n",
      "\n",
      "1. Bridge on the River Kwai, The (1957) (Rating: 5.0)\n",
      "2. Waiting for Guffman (1996) (Rating: 5.0)\n",
      "3. Shawshank Redemption, The (1994) (Rating: 5.0)\n",
      "4. Grumpier Old Men (1995) (Rating: 5.0)\n",
      "5. Usual Suspects, The (1995) (Rating: 5.0)\n",
      "\n",
      "The Root Mean Squared Error (RMSE) for the hybrid model is: 0.7746\n"
     ]
    }
   ],
   "source": [
    "# Get hybrid recommendations\n",
    "hybrid_recommendations, hybrid_rmse = get_hybrid_recommendations(user_id=1)\n",
    "\n",
    "# Format the recommendations\n",
    "formatted_recommendations = \"\\n\".join([f\"{i+1}. {movie} (Rating: {rating})\" for i, (movie, rating) in enumerate(hybrid_recommendations)])\n",
    "\n",
    "print(\"Hybrid Approach Movie Recommendations for UserId 1:\\n\")\n",
    "print(formatted_recommendations)\n",
    "print(f\"\\nThe Root Mean Squared Error (RMSE) for the hybrid model is: {hybrid_rmse:.4f}\")\n"
   ]
  },
  {
   "cell_type": "markdown",
   "metadata": {},
   "source": [
    "## Conclusion"
   ]
  },
  {
   "cell_type": "markdown",
   "metadata": {},
   "source": [
    "\n",
    "### Accuracy\n",
    "* All the three models were able to identify movies with the highest rating of 5.\n",
    "\n",
    "* The collaborative filtering (SVD) model with a low RMSE indicates higher accuracy as compared to the hybrid and content based filtering model.\n",
    "\n",
    "* Content-Based Filtering method provides moderate RSME, indicationg fairly good accuracy. This can be a good alternative if the user has rich content features and want to recommend items based on the attributes of movies the user has liked.\n",
    "\n",
    "* The hybrid model appears to take into consideration both collaborative filtering and content-based filtering model details. The higher RMSE indicates lower prediction accuracy compared to the other two models.\n",
    "\n"
   ]
  },
  {
   "cell_type": "markdown",
   "metadata": {},
   "source": [
    "### Recommendation"
   ]
  },
  {
   "cell_type": "markdown",
   "metadata": {},
   "source": [
    "* Because of its accuracy and capacity to employ user-specific interaction data, Collaborative Filtering (SVD) model is the best option given the task's emphasis on user ratings. Its accuracy and simplicity mnakes it a favourable recommendation model.\n"
   ]
  },
  {
   "cell_type": "markdown",
   "metadata": {},
   "source": [
    "### Insights for next steps"
   ]
  },
  {
   "cell_type": "markdown",
   "metadata": {},
   "source": [
    "* I also plan to evaluate other models deep learning models that may offer better performance."
   ]
  }
 ],
 "metadata": {
  "kernelspec": {
   "display_name": "base",
   "language": "python",
   "name": "python3"
  },
  "language_info": {
   "codemirror_mode": {
    "name": "ipython",
    "version": 3
   },
   "file_extension": ".py",
   "mimetype": "text/x-python",
   "name": "python",
   "nbconvert_exporter": "python",
   "pygments_lexer": "ipython3",
   "version": "3.12.3"
  }
 },
 "nbformat": 4,
 "nbformat_minor": 2
}
